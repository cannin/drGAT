{
 "cells": [
  {
   "cell_type": "code",
   "execution_count": 1,
   "id": "premier-closing",
   "metadata": {},
   "outputs": [],
   "source": [
    "import numpy as np\n",
    "import pandas as pd\n",
    "import torch\n",
    "\n",
    "device = torch.device(\"cuda\" if torch.cuda.is_available() else \"cpu\")"
   ]
  },
  {
   "cell_type": "code",
   "execution_count": 2,
   "id": "documented-viewer",
   "metadata": {},
   "outputs": [
    {
     "name": "stderr",
     "output_type": "stream",
     "text": [
      "/home/kuangr/inoue019/.conda/envs/py39/lib/python3.9/site-packages/tqdm/auto.py:21: TqdmWarning: IProgress not found. Please update jupyter and ipywidgets. See https://ipywidgets.readthedocs.io/en/stable/user_install.html\n",
      "  from .autonotebook import tqdm as notebook_tqdm\n"
     ]
    }
   ],
   "source": [
    "import drGAT"
   ]
  },
  {
   "cell_type": "code",
   "execution_count": 3,
   "id": "numerical-karaoke",
   "metadata": {},
   "outputs": [],
   "source": [
    "# ?drGAT"
   ]
  },
  {
   "cell_type": "code",
   "execution_count": null,
   "id": "floating-american",
   "metadata": {},
   "outputs": [],
   "source": []
  },
  {
   "cell_type": "markdown",
   "id": "chief-orchestra",
   "metadata": {},
   "source": [
    "# Preprocess"
   ]
  },
  {
   "cell_type": "code",
   "execution_count": 4,
   "id": "sublime-spokesman",
   "metadata": {},
   "outputs": [],
   "source": [
    "train_data = pd.read_csv('data/train.csv')\n",
    "val_data = pd.read_csv('data/val.csv')\n",
    "test_data = pd.read_csv('data/test.csv')"
   ]
  },
  {
   "cell_type": "code",
   "execution_count": 5,
   "id": "interesting-venture",
   "metadata": {},
   "outputs": [
    {
     "data": {
      "text/html": [
       "<div>\n",
       "<style scoped>\n",
       "    .dataframe tbody tr th:only-of-type {\n",
       "        vertical-align: middle;\n",
       "    }\n",
       "\n",
       "    .dataframe tbody tr th {\n",
       "        vertical-align: top;\n",
       "    }\n",
       "\n",
       "    .dataframe thead th {\n",
       "        text-align: right;\n",
       "    }\n",
       "</style>\n",
       "<table border=\"1\" class=\"dataframe\">\n",
       "  <thead>\n",
       "    <tr style=\"text-align: right;\">\n",
       "      <th></th>\n",
       "      <th>Drug</th>\n",
       "      <th>Cell</th>\n",
       "    </tr>\n",
       "  </thead>\n",
       "  <tbody>\n",
       "    <tr>\n",
       "      <th>0</th>\n",
       "      <td>682298</td>\n",
       "      <td>PC_3</td>\n",
       "    </tr>\n",
       "    <tr>\n",
       "      <th>1</th>\n",
       "      <td>141549</td>\n",
       "      <td>OVCAR_8</td>\n",
       "    </tr>\n",
       "    <tr>\n",
       "      <th>2</th>\n",
       "      <td>56410</td>\n",
       "      <td>MDA_MB_231</td>\n",
       "    </tr>\n",
       "    <tr>\n",
       "      <th>3</th>\n",
       "      <td>603077</td>\n",
       "      <td>U251</td>\n",
       "    </tr>\n",
       "    <tr>\n",
       "      <th>4</th>\n",
       "      <td>757804</td>\n",
       "      <td>IGROV1</td>\n",
       "    </tr>\n",
       "  </tbody>\n",
       "</table>\n",
       "</div>"
      ],
      "text/plain": [
       "     Drug        Cell\n",
       "0  682298        PC_3\n",
       "1  141549     OVCAR_8\n",
       "2   56410  MDA_MB_231\n",
       "3  603077        U251\n",
       "4  757804      IGROV1"
      ]
     },
     "execution_count": 5,
     "metadata": {},
     "output_type": "execute_result"
    }
   ],
   "source": [
    "train_data.head()"
   ]
  },
  {
   "cell_type": "code",
   "execution_count": null,
   "id": "contemporary-drove",
   "metadata": {},
   "outputs": [],
   "source": []
  },
  {
   "cell_type": "code",
   "execution_count": 6,
   "id": "victorian-clerk",
   "metadata": {},
   "outputs": [],
   "source": [
    "converter = dict(pd.DataFrame(np.load('data/idxs.npy', allow_pickle=True)).T[[1, 0]].values)"
   ]
  },
  {
   "cell_type": "code",
   "execution_count": 7,
   "id": "controversial-season",
   "metadata": {},
   "outputs": [],
   "source": [
    "def get_idx(X):\n",
    "    X['Drug'] = [converter[(i)] for i in X['Drug']]\n",
    "    X['Cell'] = [converter[(i)] for i in X['Cell']]\n",
    "    return X"
   ]
  },
  {
   "cell_type": "code",
   "execution_count": 8,
   "id": "overhead-relay",
   "metadata": {},
   "outputs": [],
   "source": [
    "train_data = get_idx(train_data)\n",
    "val_data = get_idx(val_data)\n",
    "test_data = get_idx(test_data)"
   ]
  },
  {
   "cell_type": "code",
   "execution_count": 9,
   "id": "narrow-prediction",
   "metadata": {},
   "outputs": [
    {
     "data": {
      "text/html": [
       "<div>\n",
       "<style scoped>\n",
       "    .dataframe tbody tr th:only-of-type {\n",
       "        vertical-align: middle;\n",
       "    }\n",
       "\n",
       "    .dataframe tbody tr th {\n",
       "        vertical-align: top;\n",
       "    }\n",
       "\n",
       "    .dataframe thead th {\n",
       "        text-align: right;\n",
       "    }\n",
       "</style>\n",
       "<table border=\"1\" class=\"dataframe\">\n",
       "  <thead>\n",
       "    <tr style=\"text-align: right;\">\n",
       "      <th></th>\n",
       "      <th>Drug</th>\n",
       "      <th>Cell</th>\n",
       "    </tr>\n",
       "  </thead>\n",
       "  <tbody>\n",
       "    <tr>\n",
       "      <th>0</th>\n",
       "      <td>194</td>\n",
       "      <td>319</td>\n",
       "    </tr>\n",
       "    <tr>\n",
       "      <th>1</th>\n",
       "      <td>67</td>\n",
       "      <td>316</td>\n",
       "    </tr>\n",
       "    <tr>\n",
       "      <th>2</th>\n",
       "      <td>23</td>\n",
       "      <td>270</td>\n",
       "    </tr>\n",
       "    <tr>\n",
       "      <th>3</th>\n",
       "      <td>146</td>\n",
       "      <td>279</td>\n",
       "    </tr>\n",
       "    <tr>\n",
       "      <th>4</th>\n",
       "      <td>242</td>\n",
       "      <td>312</td>\n",
       "    </tr>\n",
       "  </tbody>\n",
       "</table>\n",
       "</div>"
      ],
      "text/plain": [
       "   Drug  Cell\n",
       "0   194   319\n",
       "1    67   316\n",
       "2    23   270\n",
       "3   146   279\n",
       "4   242   312"
      ]
     },
     "execution_count": 9,
     "metadata": {},
     "output_type": "execute_result"
    }
   ],
   "source": [
    "train_data.head()"
   ]
  },
  {
   "cell_type": "code",
   "execution_count": 10,
   "id": "potential-morgan",
   "metadata": {},
   "outputs": [
    {
     "data": {
      "text/html": [
       "<div>\n",
       "<style scoped>\n",
       "    .dataframe tbody tr th:only-of-type {\n",
       "        vertical-align: middle;\n",
       "    }\n",
       "\n",
       "    .dataframe tbody tr th {\n",
       "        vertical-align: top;\n",
       "    }\n",
       "\n",
       "    .dataframe thead th {\n",
       "        text-align: right;\n",
       "    }\n",
       "</style>\n",
       "<table border=\"1\" class=\"dataframe\">\n",
       "  <thead>\n",
       "    <tr style=\"text-align: right;\">\n",
       "      <th></th>\n",
       "      <th>0</th>\n",
       "      <th>1</th>\n",
       "    </tr>\n",
       "  </thead>\n",
       "  <tbody>\n",
       "    <tr>\n",
       "      <th>0</th>\n",
       "      <td>0</td>\n",
       "      <td>269</td>\n",
       "    </tr>\n",
       "    <tr>\n",
       "      <th>1</th>\n",
       "      <td>0</td>\n",
       "      <td>274</td>\n",
       "    </tr>\n",
       "    <tr>\n",
       "      <th>2</th>\n",
       "      <td>0</td>\n",
       "      <td>275</td>\n",
       "    </tr>\n",
       "    <tr>\n",
       "      <th>3</th>\n",
       "      <td>0</td>\n",
       "      <td>276</td>\n",
       "    </tr>\n",
       "    <tr>\n",
       "      <th>4</th>\n",
       "      <td>0</td>\n",
       "      <td>279</td>\n",
       "    </tr>\n",
       "    <tr>\n",
       "      <th>...</th>\n",
       "      <td>...</td>\n",
       "      <td>...</td>\n",
       "    </tr>\n",
       "    <tr>\n",
       "      <th>1500627</th>\n",
       "      <td>3046</td>\n",
       "      <td>324</td>\n",
       "    </tr>\n",
       "    <tr>\n",
       "      <th>1500628</th>\n",
       "      <td>3046</td>\n",
       "      <td>325</td>\n",
       "    </tr>\n",
       "    <tr>\n",
       "      <th>1500629</th>\n",
       "      <td>3046</td>\n",
       "      <td>326</td>\n",
       "    </tr>\n",
       "    <tr>\n",
       "      <th>1500630</th>\n",
       "      <td>3046</td>\n",
       "      <td>327</td>\n",
       "    </tr>\n",
       "    <tr>\n",
       "      <th>1500631</th>\n",
       "      <td>3046</td>\n",
       "      <td>328</td>\n",
       "    </tr>\n",
       "  </tbody>\n",
       "</table>\n",
       "<p>1500632 rows × 2 columns</p>\n",
       "</div>"
      ],
      "text/plain": [
       "            0    1\n",
       "0           0  269\n",
       "1           0  274\n",
       "2           0  275\n",
       "3           0  276\n",
       "4           0  279\n",
       "...       ...  ...\n",
       "1500627  3046  324\n",
       "1500628  3046  325\n",
       "1500629  3046  326\n",
       "1500630  3046  327\n",
       "1500631  3046  328\n",
       "\n",
       "[1500632 rows x 2 columns]"
      ]
     },
     "execution_count": 10,
     "metadata": {},
     "output_type": "execute_result"
    }
   ],
   "source": [
    "edge_index = pd.DataFrame(np.load('data/edges.npy')).T\n",
    "edge_index"
   ]
  },
  {
   "cell_type": "code",
   "execution_count": 11,
   "id": "ancient-finding",
   "metadata": {},
   "outputs": [
    {
     "data": {
      "text/html": [
       "<div>\n",
       "<style scoped>\n",
       "    .dataframe tbody tr th:only-of-type {\n",
       "        vertical-align: middle;\n",
       "    }\n",
       "\n",
       "    .dataframe tbody tr th {\n",
       "        vertical-align: top;\n",
       "    }\n",
       "\n",
       "    .dataframe thead th {\n",
       "        text-align: right;\n",
       "    }\n",
       "</style>\n",
       "<table border=\"1\" class=\"dataframe\">\n",
       "  <thead>\n",
       "    <tr style=\"text-align: right;\">\n",
       "      <th></th>\n",
       "      <th>0</th>\n",
       "      <th>1</th>\n",
       "    </tr>\n",
       "  </thead>\n",
       "  <tbody>\n",
       "    <tr>\n",
       "      <th>4</th>\n",
       "      <td>0</td>\n",
       "      <td>279</td>\n",
       "    </tr>\n",
       "    <tr>\n",
       "      <th>5</th>\n",
       "      <td>0</td>\n",
       "      <td>281</td>\n",
       "    </tr>\n",
       "    <tr>\n",
       "      <th>6</th>\n",
       "      <td>0</td>\n",
       "      <td>282</td>\n",
       "    </tr>\n",
       "    <tr>\n",
       "      <th>7</th>\n",
       "      <td>0</td>\n",
       "      <td>283</td>\n",
       "    </tr>\n",
       "    <tr>\n",
       "      <th>8</th>\n",
       "      <td>0</td>\n",
       "      <td>284</td>\n",
       "    </tr>\n",
       "    <tr>\n",
       "      <th>...</th>\n",
       "      <td>...</td>\n",
       "      <td>...</td>\n",
       "    </tr>\n",
       "    <tr>\n",
       "      <th>1500627</th>\n",
       "      <td>3046</td>\n",
       "      <td>324</td>\n",
       "    </tr>\n",
       "    <tr>\n",
       "      <th>1500628</th>\n",
       "      <td>3046</td>\n",
       "      <td>325</td>\n",
       "    </tr>\n",
       "    <tr>\n",
       "      <th>1500629</th>\n",
       "      <td>3046</td>\n",
       "      <td>326</td>\n",
       "    </tr>\n",
       "    <tr>\n",
       "      <th>1500630</th>\n",
       "      <td>3046</td>\n",
       "      <td>327</td>\n",
       "    </tr>\n",
       "    <tr>\n",
       "      <th>1500631</th>\n",
       "      <td>3046</td>\n",
       "      <td>328</td>\n",
       "    </tr>\n",
       "  </tbody>\n",
       "</table>\n",
       "<p>1499128 rows × 2 columns</p>\n",
       "</div>"
      ],
      "text/plain": [
       "            0    1\n",
       "4           0  279\n",
       "5           0  281\n",
       "6           0  282\n",
       "7           0  283\n",
       "8           0  284\n",
       "...       ...  ...\n",
       "1500627  3046  324\n",
       "1500628  3046  325\n",
       "1500629  3046  326\n",
       "1500630  3046  327\n",
       "1500631  3046  328\n",
       "\n",
       "[1499128 rows x 2 columns]"
      ]
     },
     "execution_count": 11,
     "metadata": {},
     "output_type": "execute_result"
    }
   ],
   "source": [
    "edge_index = edge_index.merge(\n",
    "    test_data.rename(columns={'Drug': 0, 'Cell': 1}), \n",
    "    on=[0, 1], how='outer', indicator=True).query('_merge == \"left_only\"').drop('_merge', axis=1)\n",
    "edge_index"
   ]
  },
  {
   "cell_type": "code",
   "execution_count": 12,
   "id": "clear-catholic",
   "metadata": {},
   "outputs": [
    {
     "data": {
      "text/plain": [
       "tensor([[   0,    0,    0,  ..., 3046, 3046, 3046],\n",
       "        [ 279,  281,  282,  ...,  326,  327,  328]])"
      ]
     },
     "execution_count": 12,
     "metadata": {},
     "output_type": "execute_result"
    }
   ],
   "source": [
    "edge_index = torch.tensor(edge_index.values.T).int()\n",
    "edge_index = edge_index.type(torch.int64)\n",
    "edge_index"
   ]
  },
  {
   "cell_type": "code",
   "execution_count": 13,
   "id": "meaningful-physics",
   "metadata": {},
   "outputs": [],
   "source": [
    "train_drug = train_data.values[:, 0]\n",
    "train_cell = train_data.values[:, 1]\n",
    "val_drug = val_data.values[:, 0]\n",
    "val_cell = val_data.values[:, 1]"
   ]
  },
  {
   "cell_type": "code",
   "execution_count": 14,
   "id": "northern-belize",
   "metadata": {},
   "outputs": [],
   "source": [
    "train_labels = np.load('data/train_labels.npy')\n",
    "val_labels = np.load('data/val_labels.npy')\n",
    "\n",
    "train_labels = torch.tensor(train_labels).float()\n",
    "val_labels = torch.tensor(val_labels).float()"
   ]
  },
  {
   "cell_type": "code",
   "execution_count": null,
   "id": "sporting-isaac",
   "metadata": {},
   "outputs": [],
   "source": []
  },
  {
   "cell_type": "code",
   "execution_count": 15,
   "id": "organizational-exploration",
   "metadata": {},
   "outputs": [],
   "source": [
    "drug = pd.read_csv('data/drug_sim.csv', index_col=0)\n",
    "cell = pd.read_csv('data/cell_sim.csv', index_col=0)\n",
    "gene = pd.read_csv('data/gene_sim.csv', index_col=0)"
   ]
  },
  {
   "cell_type": "code",
   "execution_count": 16,
   "id": "cultural-transparency",
   "metadata": {},
   "outputs": [],
   "source": [
    "drug = torch.tensor(drug.values).float()\n",
    "cell = torch.tensor(cell.values).float()\n",
    "gene = torch.tensor(gene.values).float()"
   ]
  },
  {
   "cell_type": "code",
   "execution_count": null,
   "id": "abandoned-indicator",
   "metadata": {
    "scrolled": true
   },
   "outputs": [],
   "source": []
  },
  {
   "cell_type": "code",
   "execution_count": 17,
   "id": "comparable-institution",
   "metadata": {
    "scrolled": true
   },
   "outputs": [
    {
     "data": {
      "text/plain": [
       "[tensor([[1.0000, 0.9683, 0.9683,  ..., 0.9394, 0.9603, 0.9575],\n",
       "         [0.9683, 1.0000, 0.9932,  ..., 0.9477, 0.9659, 0.9650],\n",
       "         [0.9683, 0.9932, 1.0000,  ..., 0.9514, 0.9697, 0.9688],\n",
       "         ...,\n",
       "         [0.9394, 0.9477, 0.9514,  ..., 1.0000, 0.9472, 0.9500],\n",
       "         [0.9603, 0.9659, 0.9697,  ..., 0.9472, 1.0000, 0.9598],\n",
       "         [0.9575, 0.9650, 0.9688,  ..., 0.9500, 0.9598, 1.0000]]),\n",
       " tensor([[1.0000, 0.0170, 0.0069,  ..., 0.4732, 0.0140, 0.2338],\n",
       "         [0.0170, 1.0000, 0.4351,  ..., 0.0421, 0.4509, 0.0916],\n",
       "         [0.0069, 0.4351, 1.0000,  ..., 0.0196, 0.2926, 0.0337],\n",
       "         ...,\n",
       "         [0.4732, 0.0421, 0.0196,  ..., 1.0000, 0.0267, 0.3622],\n",
       "         [0.0140, 0.4509, 0.2926,  ..., 0.0267, 1.0000, 0.0919],\n",
       "         [0.2338, 0.0916, 0.0337,  ..., 0.3622, 0.0919, 1.0000]]),\n",
       " tensor([[1., 0., 0.,  ..., 0., 0., 0.],\n",
       "         [0., 1., 0.,  ..., 0., 0., 0.],\n",
       "         [0., 0., 1.,  ..., 0., 0., 0.],\n",
       "         ...,\n",
       "         [0., 0., 0.,  ..., 1., 0., 0.],\n",
       "         [0., 0., 0.,  ..., 0., 1., 0.],\n",
       "         [0., 0., 0.,  ..., 0., 0., 1.]]),\n",
       " tensor([[   0,    0,    0,  ..., 3046, 3046, 3046],\n",
       "         [ 279,  281,  282,  ...,  326,  327,  328]]),\n",
       " array([194,  67,  23, ...,  53, 193,   7]),\n",
       " array([319, 316, 270, ..., 272, 327, 296]),\n",
       " array([217, 257,  75, ..., 202, 205,   8]),\n",
       " array([285, 283, 308, ..., 273, 270, 325]),\n",
       " tensor([0., 0., 0.,  ..., 0., 0., 0.]),\n",
       " tensor([0., 0., 0.,  ..., 0., 0., 0.])]"
      ]
     },
     "execution_count": 17,
     "metadata": {},
     "output_type": "execute_result"
    }
   ],
   "source": [
    "data = [drug, cell, gene, edge_index, train_drug, train_cell, val_drug, val_cell, train_labels, val_labels]\n",
    "data"
   ]
  },
  {
   "cell_type": "markdown",
   "id": "caroline-patrick",
   "metadata": {},
   "source": [
    "# Train model "
   ]
  },
  {
   "cell_type": "code",
   "execution_count": 18,
   "id": "latter-kitchen",
   "metadata": {
    "scrolled": true
   },
   "outputs": [
    {
     "name": "stdout",
     "output_type": "stream",
     "text": [
      "Using:  cuda\n"
     ]
    },
    {
     "name": "stderr",
     "output_type": "stream",
     "text": [
      "100%|██████████| 5/5 [00:03<00:00,  1.53it/s]\n"
     ]
    }
   ],
   "source": [
    "model, attention = drGAT.train(data, is_sample=True, is_save=False)"
   ]
  },
  {
   "cell_type": "code",
   "execution_count": 19,
   "id": "thrown-valve",
   "metadata": {},
   "outputs": [
    {
     "data": {
      "text/plain": [
       "tensor([[0.0041, 0.0000, 0.0000,  ..., 0.0041, 0.0041, 0.0041],\n",
       "        [0.0000, 0.0041, 0.0000,  ..., 0.0041, 0.0041, 0.0041],\n",
       "        [0.0000, 0.0000, 0.0041,  ..., 0.0041, 0.0041, 0.0041],\n",
       "        ...,\n",
       "        [0.0041, 0.0041, 0.0041,  ..., 0.0041, 0.0000, 0.0000],\n",
       "        [0.0041, 0.0041, 0.0041,  ..., 0.0000, 0.0041, 0.0000],\n",
       "        [0.0041, 0.0041, 0.0041,  ..., 0.0000, 0.0000, 0.0041]])"
      ]
     },
     "execution_count": 19,
     "metadata": {},
     "output_type": "execute_result"
    }
   ],
   "source": [
    "attention"
   ]
  },
  {
   "cell_type": "markdown",
   "id": "protected-regular",
   "metadata": {},
   "source": [
    "# Eval model"
   ]
  },
  {
   "cell_type": "code",
   "execution_count": 20,
   "id": "funky-columbus",
   "metadata": {},
   "outputs": [],
   "source": [
    "test_drug = test_data.values[:, 0]\n",
    "test_cell = test_data.values[:, 1]\n",
    "\n",
    "test_labels = np.load('data/test_labels.npy')\n",
    "test_labels = torch.tensor(test_labels).float()"
   ]
  },
  {
   "cell_type": "code",
   "execution_count": 21,
   "id": "earlier-criticism",
   "metadata": {},
   "outputs": [],
   "source": [
    "test = [drug, cell, gene, edge_index, test_drug, test_cell, test_labels]"
   ]
  },
  {
   "cell_type": "code",
   "execution_count": 26,
   "id": "rolled-rings",
   "metadata": {},
   "outputs": [
    {
     "name": "stdout",
     "output_type": "stream",
     "text": [
      "sample.pt\r\n"
     ]
    }
   ],
   "source": [
    "!ls | grep pt"
   ]
  },
  {
   "cell_type": "code",
   "execution_count": 22,
   "id": "favorite-saturday",
   "metadata": {
    "scrolled": true
   },
   "outputs": [],
   "source": [
    "tmp = !ls | grep pt\n",
    "device = torch.device(\"cuda\" if torch.cuda.is_available() else \"cpu\")\n",
    "model = torch.load(tmp[0], map_location=device)"
   ]
  },
  {
   "cell_type": "code",
   "execution_count": 23,
   "id": "subject-allen",
   "metadata": {},
   "outputs": [
    {
     "data": {
      "text/html": [
       "<div>\n",
       "<style scoped>\n",
       "    .dataframe tbody tr th:only-of-type {\n",
       "        vertical-align: middle;\n",
       "    }\n",
       "\n",
       "    .dataframe tbody tr th {\n",
       "        vertical-align: top;\n",
       "    }\n",
       "\n",
       "    .dataframe thead th {\n",
       "        text-align: right;\n",
       "    }\n",
       "</style>\n",
       "<table border=\"1\" class=\"dataframe\">\n",
       "  <thead>\n",
       "    <tr style=\"text-align: right;\">\n",
       "      <th></th>\n",
       "      <th>Accuracy</th>\n",
       "      <th>Precision</th>\n",
       "      <th>Recall</th>\n",
       "      <th>F1 Score</th>\n",
       "      <th>True Positive</th>\n",
       "      <th>True Negative</th>\n",
       "      <th>False Positive</th>\n",
       "      <th>False Negative</th>\n",
       "    </tr>\n",
       "  </thead>\n",
       "  <tbody>\n",
       "    <tr>\n",
       "      <th>0</th>\n",
       "      <td>0.771375</td>\n",
       "      <td>0.740881</td>\n",
       "      <td>0.783245</td>\n",
       "      <td>0.761474</td>\n",
       "      <td>1178</td>\n",
       "      <td>1312</td>\n",
       "      <td>412</td>\n",
       "      <td>326</td>\n",
       "    </tr>\n",
       "  </tbody>\n",
       "</table>\n",
       "</div>"
      ],
      "text/plain": [
       "   Accuracy  Precision    Recall  F1 Score  True Positive  True Negative  \\\n",
       "0  0.771375   0.740881  0.783245  0.761474           1178           1312   \n",
       "\n",
       "   False Positive  False Negative  \n",
       "0             412             326  "
      ]
     },
     "execution_count": 23,
     "metadata": {},
     "output_type": "execute_result"
    }
   ],
   "source": [
    "drGAT.eval(model, test)"
   ]
  },
  {
   "cell_type": "code",
   "execution_count": null,
   "id": "utility-collaboration",
   "metadata": {},
   "outputs": [],
   "source": []
  },
  {
   "cell_type": "markdown",
   "id": "available-cameroon",
   "metadata": {},
   "source": [
    "# Attention coefficient\n",
    "This will be utilized [Fig3](https://github.com/inoue0426/new_drGAT/blob/main/Figs/Fig3.ipynb) and [Fig5](https://github.com/inoue0426/new_drGAT/blob/main/Figs/Fig5.ipynb)"
   ]
  },
  {
   "cell_type": "code",
   "execution_count": 24,
   "id": "crude-intermediate",
   "metadata": {},
   "outputs": [],
   "source": [
    "# attention = pd.DataFrame(attention)\n",
    "# attention"
   ]
  },
  {
   "cell_type": "code",
   "execution_count": 25,
   "id": "executed-destination",
   "metadata": {},
   "outputs": [],
   "source": [
    "# attention.to_csv('attention.csv.gz', compression='gzip')"
   ]
  },
  {
   "cell_type": "code",
   "execution_count": null,
   "id": "korean-recipe",
   "metadata": {},
   "outputs": [],
   "source": []
  }
 ],
 "metadata": {
  "kernelspec": {
   "display_name": "torch",
   "language": "python",
   "name": "torch"
  },
  "language_info": {
   "codemirror_mode": {
    "name": "ipython",
    "version": 3
   },
   "file_extension": ".py",
   "mimetype": "text/x-python",
   "name": "python",
   "nbconvert_exporter": "python",
   "pygments_lexer": "ipython3",
   "version": "3.11.9"
  }
 },
 "nbformat": 4,
 "nbformat_minor": 5
}
