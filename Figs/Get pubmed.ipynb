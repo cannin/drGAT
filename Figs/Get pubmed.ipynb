{
 "cells": [
  {
   "cell_type": "code",
   "execution_count": 60,
   "id": "4252e62a",
   "metadata": {},
   "outputs": [
    {
     "data": {
      "text/html": [
       "<style>.container { width:100% !important; }</style>"
      ],
      "text/plain": [
       "<IPython.core.display.HTML object>"
      ]
     },
     "metadata": {},
     "output_type": "display_data"
    }
   ],
   "source": [
    "import time\n",
    "import xml.etree.ElementTree as ET\n",
    "\n",
    "import matplotlib.pyplot as plt\n",
    "import numpy as np\n",
    "import pandas as pd\n",
    "import requests\n",
    "import seaborn as sns\n",
    "from IPython.display import HTML, display\n",
    "from matplotlib.cm import ScalarMappable\n",
    "from matplotlib.colors import LinearSegmentedColormap, Normalize\n",
    "from matplotlib.patches import Patch\n",
    "from tqdm import tqdm\n",
    "\n",
    "display(HTML(\"<style>.container { width:100% !important; }</style>\"))"
   ]
  },
  {
   "cell_type": "code",
   "execution_count": 38,
   "id": "076c70af",
   "metadata": {
    "scrolled": true
   },
   "outputs": [
    {
     "data": {
      "text/html": [
       "<div>\n",
       "<style scoped>\n",
       "    .dataframe tbody tr th:only-of-type {\n",
       "        vertical-align: middle;\n",
       "    }\n",
       "\n",
       "    .dataframe tbody tr th {\n",
       "        vertical-align: top;\n",
       "    }\n",
       "\n",
       "    .dataframe thead th {\n",
       "        text-align: right;\n",
       "    }\n",
       "</style>\n",
       "<table border=\"1\" class=\"dataframe\">\n",
       "  <thead>\n",
       "    <tr style=\"text-align: right;\">\n",
       "      <th></th>\n",
       "      <th>Rank</th>\n",
       "      <th>Sourceid</th>\n",
       "      <th>Title</th>\n",
       "      <th>Type</th>\n",
       "      <th>Issn</th>\n",
       "      <th>SJR</th>\n",
       "      <th>SJR Best Quartile</th>\n",
       "      <th>H index</th>\n",
       "      <th>Total Docs. (2022)</th>\n",
       "      <th>Total Docs. (3years)</th>\n",
       "      <th>...</th>\n",
       "      <th>Total Cites (3years)</th>\n",
       "      <th>Citable Docs. (3years)</th>\n",
       "      <th>Cites / Doc. (2years)</th>\n",
       "      <th>Ref. / Doc.</th>\n",
       "      <th>Country</th>\n",
       "      <th>Region</th>\n",
       "      <th>Publisher</th>\n",
       "      <th>Coverage</th>\n",
       "      <th>Categories</th>\n",
       "      <th>Areas</th>\n",
       "    </tr>\n",
       "  </thead>\n",
       "  <tbody>\n",
       "    <tr>\n",
       "      <th>0</th>\n",
       "      <td>1</td>\n",
       "      <td>28773</td>\n",
       "      <td>Ca-A Cancer Journal for Clinicians</td>\n",
       "      <td>journal</td>\n",
       "      <td>15424863, 00079235</td>\n",
       "      <td>86,091</td>\n",
       "      <td>Q1</td>\n",
       "      <td>198</td>\n",
       "      <td>44</td>\n",
       "      <td>118</td>\n",
       "      <td>...</td>\n",
       "      <td>30318</td>\n",
       "      <td>85</td>\n",
       "      <td>299,99</td>\n",
       "      <td>97,00</td>\n",
       "      <td>United States</td>\n",
       "      <td>Northern America</td>\n",
       "      <td>Wiley-Blackwell</td>\n",
       "      <td>1950-2022</td>\n",
       "      <td>Hematology (Q1); Oncology (Q1)</td>\n",
       "      <td>Medicine</td>\n",
       "    </tr>\n",
       "    <tr>\n",
       "      <th>1</th>\n",
       "      <td>2</td>\n",
       "      <td>29431</td>\n",
       "      <td>Quarterly Journal of Economics</td>\n",
       "      <td>journal</td>\n",
       "      <td>00335533, 15314650</td>\n",
       "      <td>36,730</td>\n",
       "      <td>Q1</td>\n",
       "      <td>292</td>\n",
       "      <td>36</td>\n",
       "      <td>122</td>\n",
       "      <td>...</td>\n",
       "      <td>2141</td>\n",
       "      <td>122</td>\n",
       "      <td>14,83</td>\n",
       "      <td>66,61</td>\n",
       "      <td>United Kingdom</td>\n",
       "      <td>Western Europe</td>\n",
       "      <td>Oxford University Press</td>\n",
       "      <td>1886-2022</td>\n",
       "      <td>Economics and Econometrics (Q1)</td>\n",
       "      <td>Economics, Econometrics and Finance</td>\n",
       "    </tr>\n",
       "    <tr>\n",
       "      <th>2</th>\n",
       "      <td>3</td>\n",
       "      <td>20315</td>\n",
       "      <td>Nature Reviews Molecular Cell Biology</td>\n",
       "      <td>journal</td>\n",
       "      <td>14710072, 14710080</td>\n",
       "      <td>34,201</td>\n",
       "      <td>Q1</td>\n",
       "      <td>485</td>\n",
       "      <td>121</td>\n",
       "      <td>328</td>\n",
       "      <td>...</td>\n",
       "      <td>13331</td>\n",
       "      <td>156</td>\n",
       "      <td>35,47</td>\n",
       "      <td>89,29</td>\n",
       "      <td>United Kingdom</td>\n",
       "      <td>Western Europe</td>\n",
       "      <td>Nature Publishing Group</td>\n",
       "      <td>2000-2022</td>\n",
       "      <td>Cell Biology (Q1); Molecular Biology (Q1)</td>\n",
       "      <td>Biochemistry, Genetics and Molecular Biology</td>\n",
       "    </tr>\n",
       "    <tr>\n",
       "      <th>3</th>\n",
       "      <td>4</td>\n",
       "      <td>18434</td>\n",
       "      <td>Cell</td>\n",
       "      <td>journal</td>\n",
       "      <td>00928674, 10974172</td>\n",
       "      <td>26,494</td>\n",
       "      <td>Q1</td>\n",
       "      <td>856</td>\n",
       "      <td>420</td>\n",
       "      <td>1637</td>\n",
       "      <td>...</td>\n",
       "      <td>67791</td>\n",
       "      <td>1440</td>\n",
       "      <td>43,80</td>\n",
       "      <td>65,74</td>\n",
       "      <td>United States</td>\n",
       "      <td>Northern America</td>\n",
       "      <td>Cell Press</td>\n",
       "      <td>1974-2022</td>\n",
       "      <td>Biochemistry, Genetics and Molecular Biology (...</td>\n",
       "      <td>Biochemistry, Genetics and Molecular Biology</td>\n",
       "    </tr>\n",
       "    <tr>\n",
       "      <th>4</th>\n",
       "      <td>5</td>\n",
       "      <td>15847</td>\n",
       "      <td>New England Journal of Medicine</td>\n",
       "      <td>journal</td>\n",
       "      <td>00284793, 15334406</td>\n",
       "      <td>26,015</td>\n",
       "      <td>Q1</td>\n",
       "      <td>1130</td>\n",
       "      <td>1410</td>\n",
       "      <td>4561</td>\n",
       "      <td>...</td>\n",
       "      <td>133956</td>\n",
       "      <td>1854</td>\n",
       "      <td>33,93</td>\n",
       "      <td>10,21</td>\n",
       "      <td>United States</td>\n",
       "      <td>Northern America</td>\n",
       "      <td>Massachussetts Medical Society</td>\n",
       "      <td>1945-2022</td>\n",
       "      <td>Medicine (miscellaneous) (Q1)</td>\n",
       "      <td>Medicine</td>\n",
       "    </tr>\n",
       "  </tbody>\n",
       "</table>\n",
       "<p>5 rows × 21 columns</p>\n",
       "</div>"
      ],
      "text/plain": [
       "   Rank  Sourceid                                  Title     Type  \\\n",
       "0     1     28773     Ca-A Cancer Journal for Clinicians  journal   \n",
       "1     2     29431         Quarterly Journal of Economics  journal   \n",
       "2     3     20315  Nature Reviews Molecular Cell Biology  journal   \n",
       "3     4     18434                                   Cell  journal   \n",
       "4     5     15847        New England Journal of Medicine  journal   \n",
       "\n",
       "                 Issn     SJR SJR Best Quartile  H index  Total Docs. (2022)  \\\n",
       "0  15424863, 00079235  86,091                Q1      198                  44   \n",
       "1  00335533, 15314650  36,730                Q1      292                  36   \n",
       "2  14710072, 14710080  34,201                Q1      485                 121   \n",
       "3  00928674, 10974172  26,494                Q1      856                 420   \n",
       "4  00284793, 15334406  26,015                Q1     1130                1410   \n",
       "\n",
       "   Total Docs. (3years)  ...  Total Cites (3years)  Citable Docs. (3years)  \\\n",
       "0                   118  ...                 30318                      85   \n",
       "1                   122  ...                  2141                     122   \n",
       "2                   328  ...                 13331                     156   \n",
       "3                  1637  ...                 67791                    1440   \n",
       "4                  4561  ...                133956                    1854   \n",
       "\n",
       "   Cites / Doc. (2years) Ref. / Doc.         Country            Region  \\\n",
       "0                 299,99       97,00   United States  Northern America   \n",
       "1                  14,83       66,61  United Kingdom    Western Europe   \n",
       "2                  35,47       89,29  United Kingdom    Western Europe   \n",
       "3                  43,80       65,74   United States  Northern America   \n",
       "4                  33,93       10,21   United States  Northern America   \n",
       "\n",
       "                        Publisher   Coverage  \\\n",
       "0                 Wiley-Blackwell  1950-2022   \n",
       "1         Oxford University Press  1886-2022   \n",
       "2         Nature Publishing Group  2000-2022   \n",
       "3                      Cell Press  1974-2022   \n",
       "4  Massachussetts Medical Society  1945-2022   \n",
       "\n",
       "                                          Categories  \\\n",
       "0                     Hematology (Q1); Oncology (Q1)   \n",
       "1                    Economics and Econometrics (Q1)   \n",
       "2          Cell Biology (Q1); Molecular Biology (Q1)   \n",
       "3  Biochemistry, Genetics and Molecular Biology (...   \n",
       "4                      Medicine (miscellaneous) (Q1)   \n",
       "\n",
       "                                          Areas  \n",
       "0                                      Medicine  \n",
       "1           Economics, Econometrics and Finance  \n",
       "2  Biochemistry, Genetics and Molecular Biology  \n",
       "3  Biochemistry, Genetics and Molecular Biology  \n",
       "4                                      Medicine  \n",
       "\n",
       "[5 rows x 21 columns]"
      ]
     },
     "execution_count": 38,
     "metadata": {},
     "output_type": "execute_result"
    }
   ],
   "source": [
    "# Journal impact factors: Source: https://www.scimagojr.com/journalrank.php\n",
    "j_list = pd.read_csv(\"scimagojr 2022.csv\", sep=\";\")\n",
    "j_list.head()"
   ]
  },
  {
   "cell_type": "code",
   "execution_count": 40,
   "id": "5abdf4d4",
   "metadata": {},
   "outputs": [],
   "source": [
    "def search_pubmed(query, max_results=None):\n",
    "    base_url = \"https://eutils.ncbi.nlm.nih.gov/entrez/eutils/esearch.fcgi\"\n",
    "    params = {\"db\": \"pubmed\", \"term\": query, \"retmax\": max_results}\n",
    "\n",
    "    if max_results:\n",
    "        params[\"retmax\"] = max_results\n",
    "\n",
    "    response = requests.get(base_url, params=params)\n",
    "\n",
    "    if response.status_code == 200:\n",
    "        root = ET.fromstring(response.content)\n",
    "        pmids = [id_elem.text for id_elem in root.findall(\"IdList/Id\")]\n",
    "        return pmids\n",
    "    elif response.status_code == 429:\n",
    "        time.sleep(2)\n",
    "        return search_pubmed(query, 300)\n",
    "    else:\n",
    "        print(\"Error: Unable to fetch data from PubMed\")\n",
    "        return []"
   ]
  },
  {
   "cell_type": "code",
   "execution_count": 41,
   "id": "11f9131f",
   "metadata": {},
   "outputs": [],
   "source": [
    "def fetch_details(pmids):\n",
    "    ids = \",\".join(pmids)\n",
    "    base_url = \"https://eutils.ncbi.nlm.nih.gov/entrez/eutils/efetch.fcgi\"\n",
    "    params = {\"db\": \"pubmed\", \"retmode\": \"xml\", \"id\": ids}\n",
    "\n",
    "    response = requests.get(base_url, params=params)\n",
    "    if response.status_code != 200:\n",
    "        print(\"Error: Unable to fetch details from PubMed\")\n",
    "        return None\n",
    "\n",
    "    return response.content"
   ]
  },
  {
   "cell_type": "code",
   "execution_count": 42,
   "id": "11f95a5d",
   "metadata": {},
   "outputs": [],
   "source": [
    "def parse_pubmed_efetch(xml_data):\n",
    "    root = ET.fromstring(xml_data)\n",
    "\n",
    "    articles = []\n",
    "    for article in root.findall(\".//PubmedArticle\"):\n",
    "        title = article.find(\".//ArticleTitle\").text\n",
    "\n",
    "        journal_title = article.find(\".//Journal/Title\").text\n",
    "\n",
    "        authors = []\n",
    "        for author in article.findall(\".//Author\"):\n",
    "            lastname = author.find(\"LastName\")\n",
    "            firstname = author.find(\"ForeName\")\n",
    "            if lastname is not None and firstname is not None:\n",
    "                authors.append(f\"{firstname.text} {lastname.text}\")\n",
    "\n",
    "        pmcid = None\n",
    "        for article_id in article.findall(\".//ArticleId\"):\n",
    "            if article_id.get(\"IdType\") == \"pmc\":\n",
    "                pmcid = article_id.text\n",
    "                break\n",
    "\n",
    "        articles.append(\n",
    "            {\n",
    "                \"title\": title,\n",
    "                \"journal\": journal_title,\n",
    "                \"authors\": authors,\n",
    "                \"pmcid\": pmcid,\n",
    "            }\n",
    "        )\n",
    "\n",
    "    return articles"
   ]
  },
  {
   "cell_type": "code",
   "execution_count": 43,
   "id": "ea8b15dc",
   "metadata": {},
   "outputs": [
    {
     "name": "stderr",
     "output_type": "stream",
     "text": [
      "/var/folders/s4/6xgylm7x3yzgfsk6sbvk_7_c0000gn/T/ipykernel_73124/2706577698.py:1: DtypeWarning: Columns (0) have mixed types. Specify dtype option on import or set low_memory=False.\n",
      "  input_data = pd.read_csv('drug_cell_gene.csv.gz', index_col=0)\n",
      "/var/folders/s4/6xgylm7x3yzgfsk6sbvk_7_c0000gn/T/ipykernel_73124/2706577698.py:2: DtypeWarning: Columns (0) have mixed types. Specify dtype option on import or set low_memory=False.\n",
      "  attention = pd.read_csv('attention.csv.gz', index_col=0)\n"
     ]
    },
    {
     "data": {
      "text/html": [
       "<div>\n",
       "<style scoped>\n",
       "    .dataframe tbody tr th:only-of-type {\n",
       "        vertical-align: middle;\n",
       "    }\n",
       "\n",
       "    .dataframe tbody tr th {\n",
       "        vertical-align: top;\n",
       "    }\n",
       "\n",
       "    .dataframe thead th {\n",
       "        text-align: right;\n",
       "    }\n",
       "</style>\n",
       "<table border=\"1\" class=\"dataframe\">\n",
       "  <thead>\n",
       "    <tr style=\"text-align: right;\">\n",
       "      <th></th>\n",
       "      <th>740</th>\n",
       "      <th>752</th>\n",
       "      <th>755</th>\n",
       "      <th>762</th>\n",
       "      <th>1390</th>\n",
       "      <th>1895</th>\n",
       "      <th>3053</th>\n",
       "      <th>3088</th>\n",
       "      <th>6396</th>\n",
       "      <th>8806</th>\n",
       "      <th>...</th>\n",
       "      <th>ZNF207</th>\n",
       "      <th>ZNF22</th>\n",
       "      <th>ZNF580</th>\n",
       "      <th>ZNF593</th>\n",
       "      <th>ZNF706</th>\n",
       "      <th>ZNHIT1</th>\n",
       "      <th>ZNHIT3</th>\n",
       "      <th>ZNRD1</th>\n",
       "      <th>ZWINT</th>\n",
       "      <th>ZYX</th>\n",
       "    </tr>\n",
       "  </thead>\n",
       "  <tbody>\n",
       "    <tr>\n",
       "      <th>740</th>\n",
       "      <td>0.000404</td>\n",
       "      <td>0.000000</td>\n",
       "      <td>0.000000</td>\n",
       "      <td>0.000000</td>\n",
       "      <td>0.000000</td>\n",
       "      <td>0.000000</td>\n",
       "      <td>0.000000</td>\n",
       "      <td>0.000000</td>\n",
       "      <td>0.000000</td>\n",
       "      <td>0.000000</td>\n",
       "      <td>...</td>\n",
       "      <td>0.003412</td>\n",
       "      <td>0.003558</td>\n",
       "      <td>0.003408</td>\n",
       "      <td>0.003410</td>\n",
       "      <td>0.003498</td>\n",
       "      <td>0.003412</td>\n",
       "      <td>0.003494</td>\n",
       "      <td>0.003540</td>\n",
       "      <td>0.003394</td>\n",
       "      <td>0.003387</td>\n",
       "    </tr>\n",
       "    <tr>\n",
       "      <th>752</th>\n",
       "      <td>0.000000</td>\n",
       "      <td>0.000404</td>\n",
       "      <td>0.000000</td>\n",
       "      <td>0.000000</td>\n",
       "      <td>0.000000</td>\n",
       "      <td>0.000000</td>\n",
       "      <td>0.000000</td>\n",
       "      <td>0.000000</td>\n",
       "      <td>0.000000</td>\n",
       "      <td>0.000000</td>\n",
       "      <td>...</td>\n",
       "      <td>0.003327</td>\n",
       "      <td>0.003505</td>\n",
       "      <td>0.003340</td>\n",
       "      <td>0.003308</td>\n",
       "      <td>0.003361</td>\n",
       "      <td>0.003338</td>\n",
       "      <td>0.003412</td>\n",
       "      <td>0.003434</td>\n",
       "      <td>0.003295</td>\n",
       "      <td>0.003294</td>\n",
       "    </tr>\n",
       "    <tr>\n",
       "      <th>755</th>\n",
       "      <td>0.000000</td>\n",
       "      <td>0.000000</td>\n",
       "      <td>0.000404</td>\n",
       "      <td>0.000000</td>\n",
       "      <td>0.000000</td>\n",
       "      <td>0.000000</td>\n",
       "      <td>0.000000</td>\n",
       "      <td>0.000000</td>\n",
       "      <td>0.000000</td>\n",
       "      <td>0.000000</td>\n",
       "      <td>...</td>\n",
       "      <td>0.003307</td>\n",
       "      <td>0.003430</td>\n",
       "      <td>0.003286</td>\n",
       "      <td>0.003286</td>\n",
       "      <td>0.003371</td>\n",
       "      <td>0.003272</td>\n",
       "      <td>0.003372</td>\n",
       "      <td>0.003386</td>\n",
       "      <td>0.003289</td>\n",
       "      <td>0.003258</td>\n",
       "    </tr>\n",
       "    <tr>\n",
       "      <th>762</th>\n",
       "      <td>0.000000</td>\n",
       "      <td>0.000000</td>\n",
       "      <td>0.000000</td>\n",
       "      <td>0.000404</td>\n",
       "      <td>0.000000</td>\n",
       "      <td>0.000000</td>\n",
       "      <td>0.000000</td>\n",
       "      <td>0.000000</td>\n",
       "      <td>0.000000</td>\n",
       "      <td>0.000000</td>\n",
       "      <td>...</td>\n",
       "      <td>0.003330</td>\n",
       "      <td>0.003448</td>\n",
       "      <td>0.003285</td>\n",
       "      <td>0.003300</td>\n",
       "      <td>0.003380</td>\n",
       "      <td>0.003285</td>\n",
       "      <td>0.003378</td>\n",
       "      <td>0.003418</td>\n",
       "      <td>0.003271</td>\n",
       "      <td>0.003272</td>\n",
       "    </tr>\n",
       "    <tr>\n",
       "      <th>1390</th>\n",
       "      <td>0.000000</td>\n",
       "      <td>0.000000</td>\n",
       "      <td>0.000000</td>\n",
       "      <td>0.000000</td>\n",
       "      <td>0.000404</td>\n",
       "      <td>0.000000</td>\n",
       "      <td>0.000000</td>\n",
       "      <td>0.000000</td>\n",
       "      <td>0.000000</td>\n",
       "      <td>0.000000</td>\n",
       "      <td>...</td>\n",
       "      <td>0.003382</td>\n",
       "      <td>0.003535</td>\n",
       "      <td>0.003351</td>\n",
       "      <td>0.003374</td>\n",
       "      <td>0.003419</td>\n",
       "      <td>0.003370</td>\n",
       "      <td>0.003442</td>\n",
       "      <td>0.003498</td>\n",
       "      <td>0.003341</td>\n",
       "      <td>0.003323</td>\n",
       "    </tr>\n",
       "    <tr>\n",
       "      <th>...</th>\n",
       "      <td>...</td>\n",
       "      <td>...</td>\n",
       "      <td>...</td>\n",
       "      <td>...</td>\n",
       "      <td>...</td>\n",
       "      <td>...</td>\n",
       "      <td>...</td>\n",
       "      <td>...</td>\n",
       "      <td>...</td>\n",
       "      <td>...</td>\n",
       "      <td>...</td>\n",
       "      <td>...</td>\n",
       "      <td>...</td>\n",
       "      <td>...</td>\n",
       "      <td>...</td>\n",
       "      <td>...</td>\n",
       "      <td>...</td>\n",
       "      <td>...</td>\n",
       "      <td>...</td>\n",
       "      <td>...</td>\n",
       "      <td>...</td>\n",
       "    </tr>\n",
       "    <tr>\n",
       "      <th>ZNHIT1</th>\n",
       "      <td>0.000404</td>\n",
       "      <td>0.000319</td>\n",
       "      <td>0.000413</td>\n",
       "      <td>0.000323</td>\n",
       "      <td>0.000405</td>\n",
       "      <td>0.000415</td>\n",
       "      <td>0.000411</td>\n",
       "      <td>0.000313</td>\n",
       "      <td>0.000312</td>\n",
       "      <td>0.000314</td>\n",
       "      <td>...</td>\n",
       "      <td>0.000000</td>\n",
       "      <td>0.000000</td>\n",
       "      <td>0.000000</td>\n",
       "      <td>0.000000</td>\n",
       "      <td>0.000000</td>\n",
       "      <td>0.000404</td>\n",
       "      <td>0.000000</td>\n",
       "      <td>0.000000</td>\n",
       "      <td>0.000000</td>\n",
       "      <td>0.000000</td>\n",
       "    </tr>\n",
       "    <tr>\n",
       "      <th>ZNHIT3</th>\n",
       "      <td>0.000419</td>\n",
       "      <td>0.000321</td>\n",
       "      <td>0.000419</td>\n",
       "      <td>0.000320</td>\n",
       "      <td>0.000415</td>\n",
       "      <td>0.000422</td>\n",
       "      <td>0.000421</td>\n",
       "      <td>0.000312</td>\n",
       "      <td>0.000313</td>\n",
       "      <td>0.000314</td>\n",
       "      <td>...</td>\n",
       "      <td>0.000000</td>\n",
       "      <td>0.000000</td>\n",
       "      <td>0.000000</td>\n",
       "      <td>0.000000</td>\n",
       "      <td>0.000000</td>\n",
       "      <td>0.000000</td>\n",
       "      <td>0.000404</td>\n",
       "      <td>0.000000</td>\n",
       "      <td>0.000000</td>\n",
       "      <td>0.000000</td>\n",
       "    </tr>\n",
       "    <tr>\n",
       "      <th>ZNRD1</th>\n",
       "      <td>0.000407</td>\n",
       "      <td>0.000317</td>\n",
       "      <td>0.000414</td>\n",
       "      <td>0.000319</td>\n",
       "      <td>0.000407</td>\n",
       "      <td>0.000416</td>\n",
       "      <td>0.000411</td>\n",
       "      <td>0.000313</td>\n",
       "      <td>0.000312</td>\n",
       "      <td>0.000314</td>\n",
       "      <td>...</td>\n",
       "      <td>0.000000</td>\n",
       "      <td>0.000000</td>\n",
       "      <td>0.000000</td>\n",
       "      <td>0.000000</td>\n",
       "      <td>0.000000</td>\n",
       "      <td>0.000000</td>\n",
       "      <td>0.000000</td>\n",
       "      <td>0.000404</td>\n",
       "      <td>0.000000</td>\n",
       "      <td>0.000000</td>\n",
       "    </tr>\n",
       "    <tr>\n",
       "      <th>ZWINT</th>\n",
       "      <td>0.000398</td>\n",
       "      <td>0.000316</td>\n",
       "      <td>0.000404</td>\n",
       "      <td>0.000315</td>\n",
       "      <td>0.000402</td>\n",
       "      <td>0.000411</td>\n",
       "      <td>0.000408</td>\n",
       "      <td>0.000309</td>\n",
       "      <td>0.000305</td>\n",
       "      <td>0.000310</td>\n",
       "      <td>...</td>\n",
       "      <td>0.000000</td>\n",
       "      <td>0.000000</td>\n",
       "      <td>0.000000</td>\n",
       "      <td>0.000000</td>\n",
       "      <td>0.000000</td>\n",
       "      <td>0.000000</td>\n",
       "      <td>0.000000</td>\n",
       "      <td>0.000000</td>\n",
       "      <td>0.000404</td>\n",
       "      <td>0.000000</td>\n",
       "    </tr>\n",
       "    <tr>\n",
       "      <th>ZYX</th>\n",
       "      <td>0.000406</td>\n",
       "      <td>0.000319</td>\n",
       "      <td>0.000408</td>\n",
       "      <td>0.000319</td>\n",
       "      <td>0.000402</td>\n",
       "      <td>0.000414</td>\n",
       "      <td>0.000409</td>\n",
       "      <td>0.000313</td>\n",
       "      <td>0.000312</td>\n",
       "      <td>0.000315</td>\n",
       "      <td>...</td>\n",
       "      <td>0.000000</td>\n",
       "      <td>0.000000</td>\n",
       "      <td>0.000000</td>\n",
       "      <td>0.000000</td>\n",
       "      <td>0.000000</td>\n",
       "      <td>0.000000</td>\n",
       "      <td>0.000000</td>\n",
       "      <td>0.000000</td>\n",
       "      <td>0.000000</td>\n",
       "      <td>0.000404</td>\n",
       "    </tr>\n",
       "  </tbody>\n",
       "</table>\n",
       "<p>3047 rows × 3047 columns</p>\n",
       "</div>"
      ],
      "text/plain": [
       "             740       752       755       762      1390      1895      3053  \\\n",
       "740     0.000404  0.000000  0.000000  0.000000  0.000000  0.000000  0.000000   \n",
       "752     0.000000  0.000404  0.000000  0.000000  0.000000  0.000000  0.000000   \n",
       "755     0.000000  0.000000  0.000404  0.000000  0.000000  0.000000  0.000000   \n",
       "762     0.000000  0.000000  0.000000  0.000404  0.000000  0.000000  0.000000   \n",
       "1390    0.000000  0.000000  0.000000  0.000000  0.000404  0.000000  0.000000   \n",
       "...          ...       ...       ...       ...       ...       ...       ...   \n",
       "ZNHIT1  0.000404  0.000319  0.000413  0.000323  0.000405  0.000415  0.000411   \n",
       "ZNHIT3  0.000419  0.000321  0.000419  0.000320  0.000415  0.000422  0.000421   \n",
       "ZNRD1   0.000407  0.000317  0.000414  0.000319  0.000407  0.000416  0.000411   \n",
       "ZWINT   0.000398  0.000316  0.000404  0.000315  0.000402  0.000411  0.000408   \n",
       "ZYX     0.000406  0.000319  0.000408  0.000319  0.000402  0.000414  0.000409   \n",
       "\n",
       "            3088      6396      8806  ...    ZNF207     ZNF22    ZNF580  \\\n",
       "740     0.000000  0.000000  0.000000  ...  0.003412  0.003558  0.003408   \n",
       "752     0.000000  0.000000  0.000000  ...  0.003327  0.003505  0.003340   \n",
       "755     0.000000  0.000000  0.000000  ...  0.003307  0.003430  0.003286   \n",
       "762     0.000000  0.000000  0.000000  ...  0.003330  0.003448  0.003285   \n",
       "1390    0.000000  0.000000  0.000000  ...  0.003382  0.003535  0.003351   \n",
       "...          ...       ...       ...  ...       ...       ...       ...   \n",
       "ZNHIT1  0.000313  0.000312  0.000314  ...  0.000000  0.000000  0.000000   \n",
       "ZNHIT3  0.000312  0.000313  0.000314  ...  0.000000  0.000000  0.000000   \n",
       "ZNRD1   0.000313  0.000312  0.000314  ...  0.000000  0.000000  0.000000   \n",
       "ZWINT   0.000309  0.000305  0.000310  ...  0.000000  0.000000  0.000000   \n",
       "ZYX     0.000313  0.000312  0.000315  ...  0.000000  0.000000  0.000000   \n",
       "\n",
       "          ZNF593    ZNF706    ZNHIT1    ZNHIT3     ZNRD1     ZWINT       ZYX  \n",
       "740     0.003410  0.003498  0.003412  0.003494  0.003540  0.003394  0.003387  \n",
       "752     0.003308  0.003361  0.003338  0.003412  0.003434  0.003295  0.003294  \n",
       "755     0.003286  0.003371  0.003272  0.003372  0.003386  0.003289  0.003258  \n",
       "762     0.003300  0.003380  0.003285  0.003378  0.003418  0.003271  0.003272  \n",
       "1390    0.003374  0.003419  0.003370  0.003442  0.003498  0.003341  0.003323  \n",
       "...          ...       ...       ...       ...       ...       ...       ...  \n",
       "ZNHIT1  0.000000  0.000000  0.000404  0.000000  0.000000  0.000000  0.000000  \n",
       "ZNHIT3  0.000000  0.000000  0.000000  0.000404  0.000000  0.000000  0.000000  \n",
       "ZNRD1   0.000000  0.000000  0.000000  0.000000  0.000404  0.000000  0.000000  \n",
       "ZWINT   0.000000  0.000000  0.000000  0.000000  0.000000  0.000404  0.000000  \n",
       "ZYX     0.000000  0.000000  0.000000  0.000000  0.000000  0.000000  0.000404  \n",
       "\n",
       "[3047 rows x 3047 columns]"
      ]
     },
     "execution_count": 43,
     "metadata": {},
     "output_type": "execute_result"
    }
   ],
   "source": [
    "input_data = pd.read_csv(\"drug_cell_gene.csv.gz\", index_col=0)\n",
    "attention = pd.read_csv(\"attention.csv.gz\", index_col=0)\n",
    "attention.index = input_data.index\n",
    "attention.columns = input_data.columns\n",
    "attention"
   ]
  },
  {
   "cell_type": "code",
   "execution_count": 44,
   "id": "c4623f05",
   "metadata": {
    "scrolled": true
   },
   "outputs": [],
   "source": [
    "att_dg = attention.iloc[:269, 329:]\n",
    "conv = dict(pd.read_csv(\"nsc_dti.csv\", index_col=0)[[\"NSC\", \"Drug Name\"]].values)"
   ]
  },
  {
   "cell_type": "code",
   "execution_count": 45,
   "id": "b5f0f572",
   "metadata": {
    "scrolled": true
   },
   "outputs": [
    {
     "name": "stderr",
     "output_type": "stream",
     "text": [
      "\r",
      "  0%|          | 0/269 [00:00<?, ?it/s]"
     ]
    },
    {
     "name": "stdout",
     "output_type": "stream",
     "text": [
      "Error: Unable to fetch details from PubMed\n"
     ]
    },
    {
     "name": "stderr",
     "output_type": "stream",
     "text": [
      "\r",
      "  0%|          | 1/269 [00:05<26:07,  5.85s/it]"
     ]
    },
    {
     "name": "stdout",
     "output_type": "stream",
     "text": [
      "Error: Unable to fetch details from PubMed\n",
      "Error: Unable to fetch details from PubMed\n",
      "Error: Unable to fetch details from PubMed\n"
     ]
    },
    {
     "name": "stderr",
     "output_type": "stream",
     "text": [
      "\r",
      "  1%|          | 2/269 [00:13<30:31,  6.86s/it]"
     ]
    },
    {
     "name": "stdout",
     "output_type": "stream",
     "text": [
      "Error: Unable to fetch details from PubMed\n"
     ]
    },
    {
     "name": "stderr",
     "output_type": "stream",
     "text": [
      "\r",
      "  1%|          | 3/269 [00:20<29:51,  6.74s/it]"
     ]
    },
    {
     "name": "stdout",
     "output_type": "stream",
     "text": [
      "Error: Unable to fetch details from PubMed\n",
      "Error: Unable to fetch details from PubMed\n"
     ]
    },
    {
     "name": "stderr",
     "output_type": "stream",
     "text": [
      "\r",
      "  1%|▏         | 4/269 [00:25<27:44,  6.28s/it]"
     ]
    },
    {
     "name": "stdout",
     "output_type": "stream",
     "text": [
      "Error: Unable to fetch details from PubMed\n",
      "Error: Unable to fetch details from PubMed\n"
     ]
    },
    {
     "name": "stderr",
     "output_type": "stream",
     "text": [
      "\r",
      "  2%|▏         | 5/269 [00:32<27:51,  6.33s/it]"
     ]
    },
    {
     "name": "stdout",
     "output_type": "stream",
     "text": [
      "Error: Unable to fetch details from PubMed\n",
      "Error: Unable to fetch details from PubMed\n",
      "Error: Unable to fetch details from PubMed\n"
     ]
    },
    {
     "name": "stderr",
     "output_type": "stream",
     "text": [
      "\r",
      "  2%|▏         | 6/269 [00:39<29:28,  6.72s/it]"
     ]
    },
    {
     "name": "stdout",
     "output_type": "stream",
     "text": [
      "Error: Unable to fetch details from PubMed\n",
      "Error: Unable to fetch details from PubMed\n"
     ]
    },
    {
     "name": "stderr",
     "output_type": "stream",
     "text": [
      "\r",
      "  3%|▎         | 7/269 [00:44<27:29,  6.30s/it]"
     ]
    },
    {
     "name": "stdout",
     "output_type": "stream",
     "text": [
      "Error: Unable to fetch details from PubMed\n",
      "Error: Unable to fetch details from PubMed\n",
      "Error: Unable to fetch details from PubMed\n"
     ]
    },
    {
     "name": "stderr",
     "output_type": "stream",
     "text": [
      "\r",
      "  3%|▎         | 8/269 [00:52<28:55,  6.65s/it]"
     ]
    },
    {
     "name": "stdout",
     "output_type": "stream",
     "text": [
      "Error: Unable to fetch details from PubMed\n",
      "Error: Unable to fetch details from PubMed\n"
     ]
    },
    {
     "name": "stderr",
     "output_type": "stream",
     "text": [
      "\r",
      "  3%|▎         | 9/269 [00:57<27:28,  6.34s/it]"
     ]
    },
    {
     "name": "stdout",
     "output_type": "stream",
     "text": [
      "Error: Unable to fetch details from PubMed\n",
      "Error: Unable to fetch details from PubMed\n",
      "Error: Unable to fetch details from PubMed\n"
     ]
    },
    {
     "name": "stderr",
     "output_type": "stream",
     "text": [
      "\r",
      "  4%|▎         | 10/269 [01:05<29:20,  6.80s/it]"
     ]
    },
    {
     "name": "stdout",
     "output_type": "stream",
     "text": [
      "Error: Unable to fetch details from PubMed\n",
      "Error: Unable to fetch details from PubMed\n"
     ]
    },
    {
     "name": "stderr",
     "output_type": "stream",
     "text": [
      "\r",
      "  4%|▍         | 11/269 [01:11<27:14,  6.34s/it]"
     ]
    },
    {
     "name": "stdout",
     "output_type": "stream",
     "text": [
      "Error: Unable to fetch details from PubMed\n",
      "Error: Unable to fetch details from PubMed\n",
      "Error: Unable to fetch details from PubMed\n"
     ]
    },
    {
     "name": "stderr",
     "output_type": "stream",
     "text": [
      "\r",
      "  4%|▍         | 12/269 [01:18<28:51,  6.74s/it]"
     ]
    },
    {
     "name": "stdout",
     "output_type": "stream",
     "text": [
      "Error: Unable to fetch details from PubMed\n",
      "Error: Unable to fetch details from PubMed\n"
     ]
    },
    {
     "name": "stderr",
     "output_type": "stream",
     "text": [
      "\r",
      "  5%|▍         | 13/269 [01:24<27:10,  6.37s/it]"
     ]
    },
    {
     "name": "stdout",
     "output_type": "stream",
     "text": [
      "Error: Unable to fetch details from PubMed\n",
      "Error: Unable to fetch details from PubMed\n",
      "Error: Unable to fetch details from PubMed\n"
     ]
    },
    {
     "name": "stderr",
     "output_type": "stream",
     "text": [
      "\r",
      "  5%|▌         | 14/269 [01:31<28:37,  6.73s/it]"
     ]
    },
    {
     "name": "stdout",
     "output_type": "stream",
     "text": [
      "Error: Unable to fetch details from PubMed\n",
      "Error: Unable to fetch details from PubMed\n"
     ]
    },
    {
     "name": "stderr",
     "output_type": "stream",
     "text": [
      "\r",
      "  6%|▌         | 15/269 [01:37<27:04,  6.40s/it]"
     ]
    },
    {
     "name": "stdout",
     "output_type": "stream",
     "text": [
      "Error: Unable to fetch details from PubMed\n",
      "Error: Unable to fetch details from PubMed\n",
      "Error: Unable to fetch details from PubMed\n"
     ]
    },
    {
     "name": "stderr",
     "output_type": "stream",
     "text": [
      "\r",
      "  6%|▌         | 16/269 [01:44<28:14,  6.70s/it]"
     ]
    },
    {
     "name": "stdout",
     "output_type": "stream",
     "text": [
      "Error: Unable to fetch details from PubMed\n",
      "Error: Unable to fetch details from PubMed\n"
     ]
    },
    {
     "name": "stderr",
     "output_type": "stream",
     "text": [
      "\r",
      "  6%|▋         | 17/269 [01:50<26:29,  6.31s/it]"
     ]
    },
    {
     "name": "stdout",
     "output_type": "stream",
     "text": [
      "Error: Unable to fetch details from PubMed\n"
     ]
    },
    {
     "name": "stderr",
     "output_type": "stream",
     "text": [
      "\r",
      "  7%|▋         | 18/269 [01:56<26:39,  6.37s/it]"
     ]
    },
    {
     "name": "stdout",
     "output_type": "stream",
     "text": [
      "Error: Unable to fetch details from PubMed\n",
      "Error: Unable to fetch details from PubMed\n"
     ]
    },
    {
     "name": "stderr",
     "output_type": "stream",
     "text": [
      "\r",
      "  7%|▋         | 19/269 [02:03<26:44,  6.42s/it]"
     ]
    },
    {
     "name": "stdout",
     "output_type": "stream",
     "text": [
      "Error: Unable to fetch details from PubMed\n",
      "Error: Unable to fetch details from PubMed\n"
     ]
    },
    {
     "name": "stderr",
     "output_type": "stream",
     "text": [
      "\r",
      "  7%|▋         | 20/269 [02:09<26:56,  6.49s/it]"
     ]
    },
    {
     "name": "stdout",
     "output_type": "stream",
     "text": [
      "Error: Unable to fetch details from PubMed\n",
      "Error: Unable to fetch details from PubMed\n",
      "Error: Unable to fetch details from PubMed\n"
     ]
    },
    {
     "name": "stderr",
     "output_type": "stream",
     "text": [
      "\r",
      "  8%|▊         | 21/269 [02:17<28:13,  6.83s/it]"
     ]
    },
    {
     "name": "stdout",
     "output_type": "stream",
     "text": [
      "Error: Unable to fetch details from PubMed\n",
      "Error: Unable to fetch details from PubMed\n"
     ]
    },
    {
     "name": "stderr",
     "output_type": "stream",
     "text": [
      "\r",
      "  8%|▊         | 22/269 [02:23<27:29,  6.68s/it]"
     ]
    },
    {
     "name": "stdout",
     "output_type": "stream",
     "text": [
      "Error: Unable to fetch details from PubMed\n",
      "Error: Unable to fetch details from PubMed\n",
      "Error: Unable to fetch details from PubMed\n"
     ]
    },
    {
     "name": "stderr",
     "output_type": "stream",
     "text": [
      "\r",
      "  9%|▊         | 23/269 [02:31<28:43,  7.00s/it]"
     ]
    },
    {
     "name": "stdout",
     "output_type": "stream",
     "text": [
      "Error: Unable to fetch details from PubMed\n",
      "Error: Unable to fetch details from PubMed\n"
     ]
    },
    {
     "name": "stderr",
     "output_type": "stream",
     "text": [
      "\r",
      "  9%|▉         | 24/269 [02:37<26:39,  6.53s/it]"
     ]
    },
    {
     "name": "stdout",
     "output_type": "stream",
     "text": [
      "Error: Unable to fetch details from PubMed\n",
      "Error: Unable to fetch details from PubMed\n",
      "Error: Unable to fetch details from PubMed\n"
     ]
    },
    {
     "name": "stderr",
     "output_type": "stream",
     "text": [
      "\r",
      "  9%|▉         | 25/269 [02:44<27:53,  6.86s/it]"
     ]
    },
    {
     "name": "stdout",
     "output_type": "stream",
     "text": [
      "Error: Unable to fetch details from PubMed\n",
      "Error: Unable to fetch details from PubMed\n"
     ]
    },
    {
     "name": "stderr",
     "output_type": "stream",
     "text": [
      "\r",
      " 10%|▉         | 26/269 [02:50<25:59,  6.42s/it]"
     ]
    },
    {
     "name": "stdout",
     "output_type": "stream",
     "text": [
      "Error: Unable to fetch details from PubMed\n",
      "Error: Unable to fetch details from PubMed\n",
      "Error: Unable to fetch details from PubMed\n"
     ]
    },
    {
     "name": "stderr",
     "output_type": "stream",
     "text": [
      "\r",
      " 10%|█         | 27/269 [02:57<27:12,  6.75s/it]"
     ]
    },
    {
     "name": "stdout",
     "output_type": "stream",
     "text": [
      "Error: Unable to fetch details from PubMed\n"
     ]
    },
    {
     "name": "stderr",
     "output_type": "stream",
     "text": [
      "\r",
      " 10%|█         | 28/269 [03:06<29:38,  7.38s/it]"
     ]
    },
    {
     "name": "stdout",
     "output_type": "stream",
     "text": [
      "Error: Unable to fetch details from PubMed\n",
      "Error: Unable to fetch details from PubMed\n"
     ]
    },
    {
     "name": "stderr",
     "output_type": "stream",
     "text": [
      "\r",
      " 11%|█         | 29/269 [03:11<26:59,  6.75s/it]"
     ]
    },
    {
     "name": "stdout",
     "output_type": "stream",
     "text": [
      "Error: Unable to fetch details from PubMed\n",
      "Error: Unable to fetch details from PubMed\n"
     ]
    },
    {
     "name": "stderr",
     "output_type": "stream",
     "text": [
      "\r",
      " 11%|█         | 30/269 [03:20<29:04,  7.30s/it]"
     ]
    },
    {
     "name": "stdout",
     "output_type": "stream",
     "text": [
      "Error: Unable to fetch details from PubMed\n",
      "Error: Unable to fetch details from PubMed\n"
     ]
    },
    {
     "name": "stderr",
     "output_type": "stream",
     "text": [
      "\r",
      " 12%|█▏        | 31/269 [03:25<26:30,  6.68s/it]"
     ]
    },
    {
     "name": "stdout",
     "output_type": "stream",
     "text": [
      "Error: Unable to fetch details from PubMed\n",
      "Error: Unable to fetch details from PubMed\n",
      "Error: Unable to fetch details from PubMed\n"
     ]
    },
    {
     "name": "stderr",
     "output_type": "stream",
     "text": [
      "\r",
      " 12%|█▏        | 32/269 [03:32<27:15,  6.90s/it]"
     ]
    },
    {
     "name": "stdout",
     "output_type": "stream",
     "text": [
      "Error: Unable to fetch details from PubMed\n",
      "Error: Unable to fetch details from PubMed\n",
      "Error: Unable to fetch details from PubMed\n"
     ]
    },
    {
     "name": "stderr",
     "output_type": "stream",
     "text": [
      "\r",
      " 12%|█▏        | 33/269 [03:36<23:35,  6.00s/it]"
     ]
    },
    {
     "name": "stdout",
     "output_type": "stream",
     "text": [
      "Error: Unable to fetch details from PubMed\n",
      "Error: Unable to fetch details from PubMed\n",
      "Error: Unable to fetch details from PubMed\n"
     ]
    },
    {
     "name": "stderr",
     "output_type": "stream",
     "text": [
      "\r",
      " 13%|█▎        | 34/269 [03:44<25:41,  6.56s/it]"
     ]
    },
    {
     "name": "stdout",
     "output_type": "stream",
     "text": [
      "Error: Unable to fetch details from PubMed\n",
      "Error: Unable to fetch details from PubMed\n"
     ]
    },
    {
     "name": "stderr",
     "output_type": "stream",
     "text": [
      "\r",
      " 13%|█▎        | 35/269 [03:50<24:10,  6.20s/it]"
     ]
    },
    {
     "name": "stdout",
     "output_type": "stream",
     "text": [
      "Error: Unable to fetch details from PubMed\n",
      "Error: Unable to fetch details from PubMed\n",
      "Error: Unable to fetch details from PubMed\n"
     ]
    },
    {
     "name": "stderr",
     "output_type": "stream",
     "text": [
      "\r",
      " 13%|█▎        | 36/269 [03:57<25:30,  6.57s/it]"
     ]
    },
    {
     "name": "stdout",
     "output_type": "stream",
     "text": [
      "Error: Unable to fetch details from PubMed\n",
      "Error: Unable to fetch details from PubMed\n"
     ]
    },
    {
     "name": "stderr",
     "output_type": "stream",
     "text": [
      "\r",
      " 14%|█▍        | 37/269 [04:03<24:18,  6.29s/it]"
     ]
    },
    {
     "name": "stdout",
     "output_type": "stream",
     "text": [
      "Error: Unable to fetch details from PubMed\n",
      "Error: Unable to fetch details from PubMed\n",
      "Error: Unable to fetch details from PubMed\n"
     ]
    },
    {
     "name": "stderr",
     "output_type": "stream",
     "text": [
      "\r",
      " 14%|█▍        | 38/269 [04:10<25:50,  6.71s/it]"
     ]
    },
    {
     "name": "stdout",
     "output_type": "stream",
     "text": [
      "Error: Unable to fetch details from PubMed\n",
      "Error: Unable to fetch details from PubMed\n"
     ]
    },
    {
     "name": "stderr",
     "output_type": "stream",
     "text": [
      "\r",
      " 14%|█▍        | 39/269 [04:17<25:19,  6.61s/it]"
     ]
    },
    {
     "name": "stdout",
     "output_type": "stream",
     "text": [
      "Error: Unable to fetch details from PubMed\n"
     ]
    },
    {
     "name": "stderr",
     "output_type": "stream",
     "text": [
      "\r",
      " 15%|█▍        | 40/269 [04:23<25:08,  6.59s/it]"
     ]
    },
    {
     "name": "stdout",
     "output_type": "stream",
     "text": [
      "Error: Unable to fetch details from PubMed\n"
     ]
    },
    {
     "name": "stderr",
     "output_type": "stream",
     "text": [
      "\r",
      " 15%|█▌        | 41/269 [04:29<24:34,  6.47s/it]"
     ]
    },
    {
     "name": "stdout",
     "output_type": "stream",
     "text": [
      "Error: Unable to fetch details from PubMed\n",
      "Error: Unable to fetch details from PubMed\n"
     ]
    },
    {
     "name": "stderr",
     "output_type": "stream",
     "text": [
      "\r",
      " 16%|█▌        | 42/269 [04:37<26:11,  6.92s/it]"
     ]
    },
    {
     "name": "stdout",
     "output_type": "stream",
     "text": [
      "Error: Unable to fetch details from PubMed\n",
      "Error: Unable to fetch details from PubMed\n"
     ]
    },
    {
     "name": "stderr",
     "output_type": "stream",
     "text": [
      "\r",
      " 16%|█▌        | 43/269 [04:46<27:45,  7.37s/it]"
     ]
    },
    {
     "name": "stdout",
     "output_type": "stream",
     "text": [
      "Error: Unable to fetch details from PubMed\n",
      "Error: Unable to fetch details from PubMed\n"
     ]
    },
    {
     "name": "stderr",
     "output_type": "stream",
     "text": [
      "\r",
      " 16%|█▋        | 44/269 [04:51<25:35,  6.82s/it]"
     ]
    },
    {
     "name": "stdout",
     "output_type": "stream",
     "text": [
      "Error: Unable to fetch details from PubMed\n",
      "Error: Unable to fetch details from PubMed\n",
      "Error: Unable to fetch details from PubMed\n"
     ]
    },
    {
     "name": "stderr",
     "output_type": "stream",
     "text": [
      "\r",
      " 17%|█▋        | 45/269 [04:59<26:13,  7.02s/it]"
     ]
    },
    {
     "name": "stdout",
     "output_type": "stream",
     "text": [
      "Error: Unable to fetch details from PubMed\n",
      "Error: Unable to fetch details from PubMed\n"
     ]
    },
    {
     "name": "stderr",
     "output_type": "stream",
     "text": [
      "\r",
      " 17%|█▋        | 46/269 [05:04<24:10,  6.51s/it]"
     ]
    },
    {
     "name": "stdout",
     "output_type": "stream",
     "text": [
      "Error: Unable to fetch details from PubMed\n",
      "Error: Unable to fetch details from PubMed\n",
      "Error: Unable to fetch details from PubMed\n"
     ]
    },
    {
     "name": "stderr",
     "output_type": "stream",
     "text": [
      "\r",
      " 17%|█▋        | 47/269 [05:12<25:11,  6.81s/it]"
     ]
    },
    {
     "name": "stdout",
     "output_type": "stream",
     "text": [
      "Error: Unable to fetch details from PubMed\n",
      "Error: Unable to fetch details from PubMed\n"
     ]
    },
    {
     "name": "stderr",
     "output_type": "stream",
     "text": [
      "\r",
      " 18%|█▊        | 48/269 [05:17<23:37,  6.42s/it]"
     ]
    },
    {
     "name": "stdout",
     "output_type": "stream",
     "text": [
      "Error: Unable to fetch details from PubMed\n",
      "Error: Unable to fetch details from PubMed\n"
     ]
    },
    {
     "name": "stderr",
     "output_type": "stream",
     "text": [
      "\r",
      " 18%|█▊        | 49/269 [05:24<23:35,  6.43s/it]"
     ]
    },
    {
     "name": "stdout",
     "output_type": "stream",
     "text": [
      "Error: Unable to fetch details from PubMed\n",
      "Error: Unable to fetch details from PubMed\n"
     ]
    },
    {
     "name": "stderr",
     "output_type": "stream",
     "text": [
      "\r",
      " 19%|█▊        | 50/269 [05:31<24:05,  6.60s/it]"
     ]
    },
    {
     "name": "stdout",
     "output_type": "stream",
     "text": [
      "Error: Unable to fetch details from PubMed\n",
      "Error: Unable to fetch details from PubMed\n"
     ]
    },
    {
     "name": "stderr",
     "output_type": "stream",
     "text": [
      "\r",
      " 19%|█▉        | 51/269 [05:38<25:18,  6.96s/it]"
     ]
    },
    {
     "name": "stdout",
     "output_type": "stream",
     "text": [
      "Error: Unable to fetch details from PubMed\n",
      "Error: Unable to fetch details from PubMed\n"
     ]
    },
    {
     "name": "stderr",
     "output_type": "stream",
     "text": [
      "\r",
      " 19%|█▉        | 52/269 [05:44<23:23,  6.47s/it]"
     ]
    },
    {
     "name": "stdout",
     "output_type": "stream",
     "text": [
      "Error: Unable to fetch details from PubMed\n",
      "Error: Unable to fetch details from PubMed\n",
      "Error: Unable to fetch details from PubMed\n"
     ]
    },
    {
     "name": "stderr",
     "output_type": "stream",
     "text": [
      "\r",
      " 20%|█▉        | 53/269 [05:52<25:01,  6.95s/it]"
     ]
    },
    {
     "name": "stdout",
     "output_type": "stream",
     "text": [
      "Error: Unable to fetch details from PubMed\n",
      "Error: Unable to fetch details from PubMed\n"
     ]
    },
    {
     "name": "stderr",
     "output_type": "stream",
     "text": [
      "\r",
      " 20%|██        | 54/269 [05:58<23:44,  6.63s/it]"
     ]
    },
    {
     "name": "stdout",
     "output_type": "stream",
     "text": [
      "Error: Unable to fetch details from PubMed\n",
      "Error: Unable to fetch details from PubMed\n",
      "Error: Unable to fetch details from PubMed\n"
     ]
    },
    {
     "name": "stderr",
     "output_type": "stream",
     "text": [
      "\r",
      " 20%|██        | 55/269 [06:05<24:32,  6.88s/it]"
     ]
    },
    {
     "name": "stdout",
     "output_type": "stream",
     "text": [
      "Error: Unable to fetch details from PubMed\n",
      "Error: Unable to fetch details from PubMed\n"
     ]
    },
    {
     "name": "stderr",
     "output_type": "stream",
     "text": [
      "\r",
      " 21%|██        | 56/269 [06:11<23:23,  6.59s/it]"
     ]
    },
    {
     "name": "stdout",
     "output_type": "stream",
     "text": [
      "Error: Unable to fetch details from PubMed\n",
      "Error: Unable to fetch details from PubMed\n"
     ]
    },
    {
     "name": "stderr",
     "output_type": "stream",
     "text": [
      "\r",
      " 21%|██        | 57/269 [06:18<23:09,  6.56s/it]"
     ]
    },
    {
     "name": "stdout",
     "output_type": "stream",
     "text": [
      "Error: Unable to fetch details from PubMed\n",
      "Error: Unable to fetch details from PubMed\n"
     ]
    },
    {
     "name": "stderr",
     "output_type": "stream",
     "text": [
      "\r",
      " 22%|██▏       | 58/269 [06:26<24:40,  7.02s/it]"
     ]
    },
    {
     "name": "stdout",
     "output_type": "stream",
     "text": [
      "Error: Unable to fetch details from PubMed\n",
      "Error: Unable to fetch details from PubMed\n"
     ]
    },
    {
     "name": "stderr",
     "output_type": "stream",
     "text": [
      "\r",
      " 22%|██▏       | 59/269 [06:32<23:53,  6.83s/it]"
     ]
    },
    {
     "name": "stdout",
     "output_type": "stream",
     "text": [
      "Error: Unable to fetch details from PubMed\n",
      "Error: Unable to fetch details from PubMed\n"
     ]
    },
    {
     "name": "stderr",
     "output_type": "stream",
     "text": [
      "\r",
      " 22%|██▏       | 60/269 [06:37<22:15,  6.39s/it]"
     ]
    },
    {
     "name": "stdout",
     "output_type": "stream",
     "text": [
      "Error: Unable to fetch details from PubMed\n",
      "Error: Unable to fetch details from PubMed\n"
     ]
    },
    {
     "name": "stderr",
     "output_type": "stream",
     "text": [
      "\r",
      " 23%|██▎       | 61/269 [06:44<22:14,  6.42s/it]"
     ]
    },
    {
     "name": "stdout",
     "output_type": "stream",
     "text": [
      "Error: Unable to fetch details from PubMed\n",
      "Error: Unable to fetch details from PubMed\n",
      "Error: Unable to fetch details from PubMed\n"
     ]
    },
    {
     "name": "stderr",
     "output_type": "stream",
     "text": [
      "\r",
      " 23%|██▎       | 62/269 [06:52<23:43,  6.88s/it]"
     ]
    },
    {
     "name": "stdout",
     "output_type": "stream",
     "text": [
      "Error: Unable to fetch details from PubMed\n"
     ]
    },
    {
     "name": "stderr",
     "output_type": "stream",
     "text": [
      "\r",
      " 23%|██▎       | 63/269 [06:58<23:13,  6.76s/it]"
     ]
    },
    {
     "name": "stdout",
     "output_type": "stream",
     "text": [
      "Error: Unable to fetch details from PubMed\n",
      "Error: Unable to fetch details from PubMed\n",
      "Error: Unable to fetch details from PubMed\n"
     ]
    },
    {
     "name": "stderr",
     "output_type": "stream",
     "text": [
      "\r",
      " 24%|██▍       | 64/269 [07:06<24:13,  7.09s/it]"
     ]
    },
    {
     "name": "stdout",
     "output_type": "stream",
     "text": [
      "Error: Unable to fetch details from PubMed\n"
     ]
    },
    {
     "name": "stderr",
     "output_type": "stream",
     "text": [
      "\r",
      " 24%|██▍       | 65/269 [07:12<23:00,  6.77s/it]"
     ]
    },
    {
     "name": "stdout",
     "output_type": "stream",
     "text": [
      "Error: Unable to fetch details from PubMed\n",
      "Error: Unable to fetch details from PubMed\n",
      "Error: Unable to fetch details from PubMed\n"
     ]
    },
    {
     "name": "stderr",
     "output_type": "stream",
     "text": [
      "\r",
      " 25%|██▍       | 66/269 [07:20<23:32,  6.96s/it]"
     ]
    },
    {
     "name": "stdout",
     "output_type": "stream",
     "text": [
      "Error: Unable to fetch details from PubMed\n",
      "Error: Unable to fetch details from PubMed\n"
     ]
    },
    {
     "name": "stderr",
     "output_type": "stream",
     "text": [
      "\r",
      " 25%|██▍       | 67/269 [07:26<22:47,  6.77s/it]"
     ]
    },
    {
     "name": "stdout",
     "output_type": "stream",
     "text": [
      "Error: Unable to fetch details from PubMed\n",
      "Error: Unable to fetch details from PubMed\n"
     ]
    },
    {
     "name": "stderr",
     "output_type": "stream",
     "text": [
      "\r",
      " 25%|██▌       | 68/269 [07:32<21:40,  6.47s/it]"
     ]
    },
    {
     "name": "stdout",
     "output_type": "stream",
     "text": [
      "Error: Unable to fetch details from PubMed\n",
      "Error: Unable to fetch details from PubMed\n",
      "Error: Unable to fetch details from PubMed\n"
     ]
    },
    {
     "name": "stderr",
     "output_type": "stream",
     "text": [
      "\r",
      " 26%|██▌       | 69/269 [07:39<22:47,  6.84s/it]"
     ]
    },
    {
     "name": "stdout",
     "output_type": "stream",
     "text": [
      "Error: Unable to fetch details from PubMed\n",
      "Error: Unable to fetch details from PubMed\n"
     ]
    },
    {
     "name": "stderr",
     "output_type": "stream",
     "text": [
      "\r",
      " 26%|██▌       | 70/269 [07:45<21:43,  6.55s/it]"
     ]
    },
    {
     "name": "stdout",
     "output_type": "stream",
     "text": [
      "Error: Unable to fetch details from PubMed\n",
      "Error: Unable to fetch details from PubMed\n",
      "Error: Unable to fetch details from PubMed\n"
     ]
    },
    {
     "name": "stderr",
     "output_type": "stream",
     "text": [
      "\r",
      " 26%|██▋       | 71/269 [07:53<22:45,  6.90s/it]"
     ]
    },
    {
     "name": "stdout",
     "output_type": "stream",
     "text": [
      "Error: Unable to fetch details from PubMed\n",
      "Error: Unable to fetch details from PubMed\n"
     ]
    },
    {
     "name": "stderr",
     "output_type": "stream",
     "text": [
      "\r",
      " 27%|██▋       | 72/269 [07:58<21:04,  6.42s/it]"
     ]
    },
    {
     "name": "stdout",
     "output_type": "stream",
     "text": [
      "Error: Unable to fetch details from PubMed\n",
      "Error: Unable to fetch details from PubMed\n",
      "Error: Unable to fetch details from PubMed\n"
     ]
    },
    {
     "name": "stderr",
     "output_type": "stream",
     "text": [
      "\r",
      " 27%|██▋       | 73/269 [08:06<21:58,  6.72s/it]"
     ]
    },
    {
     "name": "stdout",
     "output_type": "stream",
     "text": [
      "Error: Unable to fetch details from PubMed\n"
     ]
    },
    {
     "name": "stderr",
     "output_type": "stream",
     "text": [
      "\r",
      " 28%|██▊       | 74/269 [08:12<21:04,  6.48s/it]"
     ]
    },
    {
     "name": "stdout",
     "output_type": "stream",
     "text": [
      "Error: Unable to fetch details from PubMed\n",
      "Error: Unable to fetch details from PubMed\n",
      "Error: Unable to fetch details from PubMed\n"
     ]
    },
    {
     "name": "stderr",
     "output_type": "stream",
     "text": [
      "\r",
      " 28%|██▊       | 75/269 [08:20<22:24,  6.93s/it]"
     ]
    },
    {
     "name": "stdout",
     "output_type": "stream",
     "text": [
      "Error: Unable to fetch details from PubMed\n",
      "Error: Unable to fetch details from PubMed\n"
     ]
    },
    {
     "name": "stderr",
     "output_type": "stream",
     "text": [
      "\r",
      " 28%|██▊       | 76/269 [08:25<20:42,  6.44s/it]"
     ]
    },
    {
     "name": "stdout",
     "output_type": "stream",
     "text": [
      "Error: Unable to fetch details from PubMed\n",
      "Error: Unable to fetch details from PubMed\n"
     ]
    },
    {
     "name": "stderr",
     "output_type": "stream",
     "text": [
      "\r",
      " 29%|██▊       | 77/269 [08:31<20:20,  6.35s/it]"
     ]
    },
    {
     "name": "stdout",
     "output_type": "stream",
     "text": [
      "Error: Unable to fetch details from PubMed\n",
      "Error: Unable to fetch details from PubMed\n"
     ]
    },
    {
     "name": "stderr",
     "output_type": "stream",
     "text": [
      "\r",
      " 29%|██▉       | 78/269 [08:39<22:05,  6.94s/it]"
     ]
    },
    {
     "name": "stdout",
     "output_type": "stream",
     "text": [
      "Error: Unable to fetch details from PubMed\n",
      "Error: Unable to fetch details from PubMed\n"
     ]
    },
    {
     "name": "stderr",
     "output_type": "stream",
     "text": [
      "\r",
      " 29%|██▉       | 79/269 [08:45<20:52,  6.59s/it]"
     ]
    },
    {
     "name": "stdout",
     "output_type": "stream",
     "text": [
      "Error: Unable to fetch details from PubMed\n",
      "Error: Unable to fetch details from PubMed\n",
      "Error: Unable to fetch details from PubMed\n"
     ]
    },
    {
     "name": "stderr",
     "output_type": "stream",
     "text": [
      "\r",
      " 30%|██▉       | 80/269 [08:53<22:09,  7.04s/it]"
     ]
    },
    {
     "name": "stdout",
     "output_type": "stream",
     "text": [
      "Error: Unable to fetch details from PubMed\n",
      "Error: Unable to fetch details from PubMed\n"
     ]
    },
    {
     "name": "stderr",
     "output_type": "stream",
     "text": [
      "\r",
      " 30%|███       | 81/269 [08:59<20:53,  6.67s/it]"
     ]
    },
    {
     "name": "stdout",
     "output_type": "stream",
     "text": [
      "Error: Unable to fetch details from PubMed\n",
      "Error: Unable to fetch details from PubMed\n",
      "Error: Unable to fetch details from PubMed\n"
     ]
    },
    {
     "name": "stderr",
     "output_type": "stream",
     "text": [
      "\r",
      " 30%|███       | 82/269 [09:06<20:57,  6.73s/it]"
     ]
    },
    {
     "name": "stdout",
     "output_type": "stream",
     "text": [
      "Error: Unable to fetch details from PubMed\n",
      "Error: Unable to fetch details from PubMed\n"
     ]
    },
    {
     "name": "stderr",
     "output_type": "stream",
     "text": [
      "\r",
      " 31%|███       | 83/269 [09:12<20:06,  6.48s/it]"
     ]
    },
    {
     "name": "stdout",
     "output_type": "stream",
     "text": [
      "Error: Unable to fetch details from PubMed\n"
     ]
    },
    {
     "name": "stderr",
     "output_type": "stream",
     "text": [
      "\r",
      " 31%|███       | 84/269 [09:18<19:25,  6.30s/it]"
     ]
    },
    {
     "name": "stdout",
     "output_type": "stream",
     "text": [
      "Error: Unable to fetch details from PubMed\n",
      "Error: Unable to fetch details from PubMed\n",
      "Error: Unable to fetch details from PubMed\n"
     ]
    },
    {
     "name": "stderr",
     "output_type": "stream",
     "text": [
      "\r",
      " 32%|███▏      | 85/269 [09:25<20:31,  6.69s/it]"
     ]
    },
    {
     "name": "stdout",
     "output_type": "stream",
     "text": [
      "Error: Unable to fetch details from PubMed\n",
      "Error: Unable to fetch details from PubMed\n"
     ]
    },
    {
     "name": "stderr",
     "output_type": "stream",
     "text": [
      "\r",
      " 32%|███▏      | 86/269 [09:31<19:08,  6.27s/it]"
     ]
    },
    {
     "name": "stdout",
     "output_type": "stream",
     "text": [
      "Error: Unable to fetch details from PubMed\n",
      "Error: Unable to fetch details from PubMed\n"
     ]
    },
    {
     "name": "stderr",
     "output_type": "stream",
     "text": [
      "\r",
      " 32%|███▏      | 87/269 [09:37<19:30,  6.43s/it]"
     ]
    },
    {
     "name": "stdout",
     "output_type": "stream",
     "text": [
      "Error: Unable to fetch details from PubMed\n"
     ]
    },
    {
     "name": "stderr",
     "output_type": "stream",
     "text": [
      "\r",
      " 33%|███▎      | 88/269 [09:46<21:23,  7.09s/it]"
     ]
    },
    {
     "name": "stdout",
     "output_type": "stream",
     "text": [
      "Error: Unable to fetch details from PubMed\n"
     ]
    },
    {
     "name": "stderr",
     "output_type": "stream",
     "text": [
      "\r",
      " 33%|███▎      | 89/269 [09:52<20:38,  6.88s/it]"
     ]
    },
    {
     "name": "stdout",
     "output_type": "stream",
     "text": [
      "Error: Unable to fetch details from PubMed\n",
      "Error: Unable to fetch details from PubMed\n",
      "Error: Unable to fetch details from PubMed\n"
     ]
    },
    {
     "name": "stderr",
     "output_type": "stream",
     "text": [
      "\r",
      " 33%|███▎      | 90/269 [10:00<21:03,  7.06s/it]"
     ]
    },
    {
     "name": "stdout",
     "output_type": "stream",
     "text": [
      "Error: Unable to fetch details from PubMed\n",
      "Error: Unable to fetch details from PubMed\n"
     ]
    },
    {
     "name": "stderr",
     "output_type": "stream",
     "text": [
      "\r",
      " 34%|███▍      | 91/269 [10:05<19:34,  6.60s/it]"
     ]
    },
    {
     "name": "stdout",
     "output_type": "stream",
     "text": [
      "Error: Unable to fetch details from PubMed\n",
      "Error: Unable to fetch details from PubMed\n",
      "Error: Unable to fetch details from PubMed\n"
     ]
    },
    {
     "name": "stderr",
     "output_type": "stream",
     "text": [
      "\r",
      " 34%|███▍      | 92/269 [10:14<20:53,  7.08s/it]"
     ]
    },
    {
     "name": "stdout",
     "output_type": "stream",
     "text": [
      "Error: Unable to fetch details from PubMed\n"
     ]
    },
    {
     "name": "stderr",
     "output_type": "stream",
     "text": [
      "\r",
      " 35%|███▍      | 93/269 [10:20<20:07,  6.86s/it]"
     ]
    },
    {
     "name": "stdout",
     "output_type": "stream",
     "text": [
      "Error: Unable to fetch details from PubMed\n",
      "Error: Unable to fetch details from PubMed\n"
     ]
    },
    {
     "name": "stderr",
     "output_type": "stream",
     "text": [
      "\r",
      " 35%|███▍      | 94/269 [10:25<18:34,  6.37s/it]"
     ]
    },
    {
     "name": "stdout",
     "output_type": "stream",
     "text": [
      "Error: Unable to fetch details from PubMed\n",
      "Error: Unable to fetch details from PubMed\n",
      "Error: Unable to fetch details from PubMed\n"
     ]
    },
    {
     "name": "stderr",
     "output_type": "stream",
     "text": [
      "\r",
      " 35%|███▌      | 95/269 [10:33<19:24,  6.69s/it]"
     ]
    },
    {
     "name": "stdout",
     "output_type": "stream",
     "text": [
      "Error: Unable to fetch details from PubMed\n",
      "Error: Unable to fetch details from PubMed\n"
     ]
    },
    {
     "name": "stderr",
     "output_type": "stream",
     "text": [
      "\r",
      " 36%|███▌      | 96/269 [10:39<18:39,  6.47s/it]"
     ]
    },
    {
     "name": "stdout",
     "output_type": "stream",
     "text": [
      "Error: Unable to fetch details from PubMed\n",
      "Error: Unable to fetch details from PubMed\n"
     ]
    },
    {
     "name": "stderr",
     "output_type": "stream",
     "text": [
      "\r",
      " 36%|███▌      | 97/269 [10:47<20:12,  7.05s/it]"
     ]
    },
    {
     "name": "stdout",
     "output_type": "stream",
     "text": [
      "Error: Unable to fetch details from PubMed\n",
      "Error: Unable to fetch details from PubMed\n"
     ]
    },
    {
     "name": "stderr",
     "output_type": "stream",
     "text": [
      "\r",
      " 36%|███▋      | 98/269 [10:52<18:33,  6.51s/it]"
     ]
    },
    {
     "name": "stdout",
     "output_type": "stream",
     "text": [
      "Error: Unable to fetch details from PubMed\n",
      "Error: Unable to fetch details from PubMed\n"
     ]
    },
    {
     "name": "stderr",
     "output_type": "stream",
     "text": [
      "\r",
      " 37%|███▋      | 99/269 [10:59<18:33,  6.55s/it]"
     ]
    },
    {
     "name": "stdout",
     "output_type": "stream",
     "text": [
      "Error: Unable to fetch details from PubMed\n",
      "Error: Unable to fetch details from PubMed\n",
      "Error: Unable to fetch details from PubMed\n"
     ]
    },
    {
     "name": "stderr",
     "output_type": "stream",
     "text": [
      "\r",
      " 37%|███▋      | 100/269 [11:06<19:09,  6.80s/it]"
     ]
    },
    {
     "name": "stdout",
     "output_type": "stream",
     "text": [
      "Error: Unable to fetch details from PubMed\n",
      "Error: Unable to fetch details from PubMed\n"
     ]
    },
    {
     "name": "stderr",
     "output_type": "stream",
     "text": [
      "\r",
      " 38%|███▊      | 101/269 [11:12<17:44,  6.34s/it]"
     ]
    },
    {
     "name": "stdout",
     "output_type": "stream",
     "text": [
      "Error: Unable to fetch details from PubMed\n",
      "Error: Unable to fetch details from PubMed\n"
     ]
    },
    {
     "name": "stderr",
     "output_type": "stream",
     "text": [
      "\r",
      " 38%|███▊      | 102/269 [11:20<19:46,  7.11s/it]"
     ]
    },
    {
     "name": "stdout",
     "output_type": "stream",
     "text": [
      "Error: Unable to fetch details from PubMed\n",
      "Error: Unable to fetch details from PubMed\n"
     ]
    },
    {
     "name": "stderr",
     "output_type": "stream",
     "text": [
      "\r",
      " 38%|███▊      | 103/269 [11:26<18:15,  6.60s/it]"
     ]
    },
    {
     "name": "stdout",
     "output_type": "stream",
     "text": [
      "Error: Unable to fetch details from PubMed\n",
      "Error: Unable to fetch details from PubMed\n",
      "Error: Unable to fetch details from PubMed\n"
     ]
    },
    {
     "name": "stderr",
     "output_type": "stream",
     "text": [
      "\r",
      " 39%|███▊      | 104/269 [11:33<18:58,  6.90s/it]"
     ]
    },
    {
     "name": "stdout",
     "output_type": "stream",
     "text": [
      "Error: Unable to fetch details from PubMed\n",
      "Error: Unable to fetch details from PubMed\n"
     ]
    },
    {
     "name": "stderr",
     "output_type": "stream",
     "text": [
      "\r",
      " 39%|███▉      | 105/269 [11:39<17:35,  6.43s/it]"
     ]
    },
    {
     "name": "stdout",
     "output_type": "stream",
     "text": [
      "Error: Unable to fetch details from PubMed\n",
      "Error: Unable to fetch details from PubMed\n",
      "Error: Unable to fetch details from PubMed\n"
     ]
    },
    {
     "name": "stderr",
     "output_type": "stream",
     "text": [
      "\r",
      " 39%|███▉      | 106/269 [11:46<18:24,  6.78s/it]"
     ]
    },
    {
     "name": "stdout",
     "output_type": "stream",
     "text": [
      "Error: Unable to fetch details from PubMed\n",
      "Error: Unable to fetch details from PubMed\n"
     ]
    },
    {
     "name": "stderr",
     "output_type": "stream",
     "text": [
      "\r",
      " 40%|███▉      | 107/269 [11:52<17:07,  6.34s/it]"
     ]
    },
    {
     "name": "stdout",
     "output_type": "stream",
     "text": [
      "Error: Unable to fetch details from PubMed\n",
      "Error: Unable to fetch details from PubMed\n",
      "Error: Unable to fetch details from PubMed\n"
     ]
    },
    {
     "name": "stderr",
     "output_type": "stream",
     "text": [
      "\r",
      " 40%|████      | 108/269 [12:00<18:12,  6.79s/it]"
     ]
    },
    {
     "name": "stdout",
     "output_type": "stream",
     "text": [
      "Error: Unable to fetch details from PubMed\n"
     ]
    },
    {
     "name": "stderr",
     "output_type": "stream",
     "text": [
      "\r",
      " 41%|████      | 109/269 [12:06<17:47,  6.67s/it]"
     ]
    },
    {
     "name": "stdout",
     "output_type": "stream",
     "text": [
      "Error: Unable to fetch details from PubMed\n",
      "Error: Unable to fetch details from PubMed\n"
     ]
    },
    {
     "name": "stderr",
     "output_type": "stream",
     "text": [
      "\r",
      " 41%|████      | 110/269 [12:11<16:36,  6.27s/it]"
     ]
    },
    {
     "name": "stdout",
     "output_type": "stream",
     "text": [
      "Error: Unable to fetch details from PubMed\n",
      "Error: Unable to fetch details from PubMed\n"
     ]
    },
    {
     "name": "stderr",
     "output_type": "stream",
     "text": [
      "\r",
      " 41%|████▏     | 111/269 [12:17<15:45,  5.98s/it]"
     ]
    },
    {
     "name": "stdout",
     "output_type": "stream",
     "text": [
      "Error: Unable to fetch details from PubMed\n",
      "Error: Unable to fetch details from PubMed\n",
      "Error: Unable to fetch details from PubMed\n"
     ]
    },
    {
     "name": "stderr",
     "output_type": "stream",
     "text": [
      "\r",
      " 42%|████▏     | 112/269 [12:23<15:58,  6.10s/it]"
     ]
    },
    {
     "name": "stdout",
     "output_type": "stream",
     "text": [
      "Error: Unable to fetch details from PubMed\n",
      "Error: Unable to fetch details from PubMed\n"
     ]
    },
    {
     "name": "stderr",
     "output_type": "stream",
     "text": [
      "\r",
      " 42%|████▏     | 113/269 [12:28<15:16,  5.87s/it]"
     ]
    },
    {
     "name": "stdout",
     "output_type": "stream",
     "text": [
      "Error: Unable to fetch details from PubMed\n",
      "Error: Unable to fetch details from PubMed\n",
      "Error: Unable to fetch details from PubMed\n"
     ]
    },
    {
     "name": "stderr",
     "output_type": "stream",
     "text": [
      "\r",
      " 42%|████▏     | 114/269 [12:36<16:23,  6.34s/it]"
     ]
    },
    {
     "name": "stdout",
     "output_type": "stream",
     "text": [
      "Error: Unable to fetch details from PubMed\n",
      "Error: Unable to fetch details from PubMed\n"
     ]
    },
    {
     "name": "stderr",
     "output_type": "stream",
     "text": [
      "\r",
      " 43%|████▎     | 115/269 [12:41<15:38,  6.09s/it]"
     ]
    },
    {
     "name": "stdout",
     "output_type": "stream",
     "text": [
      "Error: Unable to fetch details from PubMed\n",
      "Error: Unable to fetch details from PubMed\n",
      "Error: Unable to fetch details from PubMed\n"
     ]
    },
    {
     "name": "stderr",
     "output_type": "stream",
     "text": [
      "\r",
      " 43%|████▎     | 116/269 [12:49<16:35,  6.51s/it]"
     ]
    },
    {
     "name": "stdout",
     "output_type": "stream",
     "text": [
      "Error: Unable to fetch details from PubMed\n",
      "Error: Unable to fetch details from PubMed\n"
     ]
    },
    {
     "name": "stderr",
     "output_type": "stream",
     "text": [
      "\r",
      " 43%|████▎     | 117/269 [12:54<15:37,  6.16s/it]"
     ]
    },
    {
     "name": "stdout",
     "output_type": "stream",
     "text": [
      "Error: Unable to fetch details from PubMed\n",
      "Error: Unable to fetch details from PubMed\n",
      "Error: Unable to fetch details from PubMed\n"
     ]
    },
    {
     "name": "stderr",
     "output_type": "stream",
     "text": [
      "\r",
      " 44%|████▍     | 118/269 [13:01<16:23,  6.51s/it]"
     ]
    },
    {
     "name": "stdout",
     "output_type": "stream",
     "text": [
      "Error: Unable to fetch details from PubMed\n",
      "Error: Unable to fetch details from PubMed\n"
     ]
    },
    {
     "name": "stderr",
     "output_type": "stream",
     "text": [
      "\r",
      " 44%|████▍     | 119/269 [13:07<15:21,  6.15s/it]"
     ]
    },
    {
     "name": "stdout",
     "output_type": "stream",
     "text": [
      "Error: Unable to fetch details from PubMed\n",
      "Error: Unable to fetch details from PubMed\n"
     ]
    },
    {
     "name": "stderr",
     "output_type": "stream",
     "text": [
      "\r",
      " 45%|████▍     | 120/269 [13:13<15:21,  6.18s/it]"
     ]
    },
    {
     "name": "stdout",
     "output_type": "stream",
     "text": [
      "Error: Unable to fetch details from PubMed\n",
      "Error: Unable to fetch details from PubMed\n",
      "Error: Unable to fetch details from PubMed\n"
     ]
    },
    {
     "name": "stderr",
     "output_type": "stream",
     "text": [
      "\r",
      " 45%|████▍     | 121/269 [13:20<16:09,  6.55s/it]"
     ]
    },
    {
     "name": "stdout",
     "output_type": "stream",
     "text": [
      "Error: Unable to fetch details from PubMed\n",
      "Error: Unable to fetch details from PubMed\n"
     ]
    },
    {
     "name": "stderr",
     "output_type": "stream",
     "text": [
      "\r",
      " 45%|████▌     | 122/269 [13:26<15:10,  6.20s/it]"
     ]
    },
    {
     "name": "stdout",
     "output_type": "stream",
     "text": [
      "Error: Unable to fetch details from PubMed\n",
      "Error: Unable to fetch details from PubMed\n",
      "Error: Unable to fetch details from PubMed\n"
     ]
    },
    {
     "name": "stderr",
     "output_type": "stream",
     "text": [
      "\r",
      " 46%|████▌     | 123/269 [13:33<15:56,  6.55s/it]"
     ]
    },
    {
     "name": "stdout",
     "output_type": "stream",
     "text": [
      "Error: Unable to fetch details from PubMed\n",
      "Error: Unable to fetch details from PubMed\n"
     ]
    },
    {
     "name": "stderr",
     "output_type": "stream",
     "text": [
      "\r",
      " 46%|████▌     | 124/269 [13:38<14:52,  6.15s/it]"
     ]
    },
    {
     "name": "stdout",
     "output_type": "stream",
     "text": [
      "Error: Unable to fetch details from PubMed\n",
      "Error: Unable to fetch details from PubMed\n",
      "Error: Unable to fetch details from PubMed\n"
     ]
    },
    {
     "name": "stderr",
     "output_type": "stream",
     "text": [
      "\r",
      " 46%|████▋     | 125/269 [13:46<15:38,  6.51s/it]"
     ]
    },
    {
     "name": "stdout",
     "output_type": "stream",
     "text": [
      "Error: Unable to fetch details from PubMed\n",
      "Error: Unable to fetch details from PubMed\n"
     ]
    },
    {
     "name": "stderr",
     "output_type": "stream",
     "text": [
      "\r",
      " 47%|████▋     | 126/269 [13:51<14:39,  6.15s/it]"
     ]
    },
    {
     "name": "stdout",
     "output_type": "stream",
     "text": [
      "Error: Unable to fetch details from PubMed\n",
      "Error: Unable to fetch details from PubMed\n",
      "Error: Unable to fetch details from PubMed\n"
     ]
    },
    {
     "name": "stderr",
     "output_type": "stream",
     "text": [
      "\r",
      " 47%|████▋     | 127/269 [13:58<15:28,  6.54s/it]"
     ]
    },
    {
     "name": "stdout",
     "output_type": "stream",
     "text": [
      "Error: Unable to fetch details from PubMed\n",
      "Error: Unable to fetch details from PubMed\n"
     ]
    },
    {
     "name": "stderr",
     "output_type": "stream",
     "text": [
      "\r",
      " 48%|████▊     | 128/269 [14:04<14:27,  6.16s/it]"
     ]
    },
    {
     "name": "stdout",
     "output_type": "stream",
     "text": [
      "Error: Unable to fetch details from PubMed\n",
      "Error: Unable to fetch details from PubMed\n",
      "Error: Unable to fetch details from PubMed\n"
     ]
    },
    {
     "name": "stderr",
     "output_type": "stream",
     "text": [
      "\r",
      " 48%|████▊     | 129/269 [14:11<15:14,  6.53s/it]"
     ]
    },
    {
     "name": "stdout",
     "output_type": "stream",
     "text": [
      "Error: Unable to fetch details from PubMed\n",
      "Error: Unable to fetch details from PubMed\n"
     ]
    },
    {
     "name": "stderr",
     "output_type": "stream",
     "text": [
      "\r",
      " 48%|████▊     | 130/269 [14:16<14:16,  6.16s/it]"
     ]
    },
    {
     "name": "stdout",
     "output_type": "stream",
     "text": [
      "Error: Unable to fetch details from PubMed\n",
      "Error: Unable to fetch details from PubMed\n"
     ]
    },
    {
     "name": "stderr",
     "output_type": "stream",
     "text": [
      "\r",
      " 49%|████▊     | 131/269 [14:22<13:37,  5.93s/it]"
     ]
    },
    {
     "name": "stdout",
     "output_type": "stream",
     "text": [
      "Error: Unable to fetch details from PubMed\n",
      "Error: Unable to fetch details from PubMed\n",
      "Error: Unable to fetch details from PubMed\n"
     ]
    },
    {
     "name": "stderr",
     "output_type": "stream",
     "text": [
      "\r",
      " 49%|████▉     | 132/269 [14:29<14:37,  6.40s/it]"
     ]
    },
    {
     "name": "stdout",
     "output_type": "stream",
     "text": [
      "Error: Unable to fetch details from PubMed\n",
      "Error: Unable to fetch details from PubMed\n"
     ]
    },
    {
     "name": "stderr",
     "output_type": "stream",
     "text": [
      "\r",
      " 49%|████▉     | 133/269 [14:35<13:52,  6.12s/it]"
     ]
    },
    {
     "name": "stdout",
     "output_type": "stream",
     "text": [
      "Error: Unable to fetch details from PubMed\n",
      "Error: Unable to fetch details from PubMed\n",
      "Error: Unable to fetch details from PubMed\n"
     ]
    },
    {
     "name": "stderr",
     "output_type": "stream",
     "text": [
      "\r",
      " 50%|████▉     | 134/269 [14:42<14:46,  6.57s/it]"
     ]
    },
    {
     "name": "stdout",
     "output_type": "stream",
     "text": [
      "Error: Unable to fetch details from PubMed\n",
      "Error: Unable to fetch details from PubMed\n"
     ]
    },
    {
     "name": "stderr",
     "output_type": "stream",
     "text": [
      "\r",
      " 50%|█████     | 135/269 [14:48<13:54,  6.23s/it]"
     ]
    },
    {
     "name": "stdout",
     "output_type": "stream",
     "text": [
      "Error: Unable to fetch details from PubMed\n",
      "Error: Unable to fetch details from PubMed\n",
      "Error: Unable to fetch details from PubMed\n"
     ]
    },
    {
     "name": "stderr",
     "output_type": "stream",
     "text": [
      "\r",
      " 51%|█████     | 136/269 [14:56<14:48,  6.68s/it]"
     ]
    },
    {
     "name": "stdout",
     "output_type": "stream",
     "text": [
      "Error: Unable to fetch details from PubMed\n",
      "Error: Unable to fetch details from PubMed\n"
     ]
    },
    {
     "name": "stderr",
     "output_type": "stream",
     "text": [
      "\r",
      " 51%|█████     | 137/269 [15:02<14:30,  6.59s/it]"
     ]
    },
    {
     "name": "stdout",
     "output_type": "stream",
     "text": [
      "Error: Unable to fetch details from PubMed\n",
      "Error: Unable to fetch details from PubMed\n"
     ]
    },
    {
     "name": "stderr",
     "output_type": "stream",
     "text": [
      "\r",
      " 51%|█████▏    | 138/269 [15:09<14:33,  6.67s/it]"
     ]
    },
    {
     "name": "stdout",
     "output_type": "stream",
     "text": [
      "Error: Unable to fetch details from PubMed\n",
      "Error: Unable to fetch details from PubMed\n"
     ]
    },
    {
     "name": "stderr",
     "output_type": "stream",
     "text": [
      "\r",
      " 52%|█████▏    | 139/269 [15:17<15:07,  6.98s/it]"
     ]
    },
    {
     "name": "stdout",
     "output_type": "stream",
     "text": [
      "Error: Unable to fetch details from PubMed\n",
      "Error: Unable to fetch details from PubMed\n"
     ]
    },
    {
     "name": "stderr",
     "output_type": "stream",
     "text": [
      "\r",
      " 52%|█████▏    | 140/269 [15:23<14:38,  6.81s/it]"
     ]
    },
    {
     "name": "stdout",
     "output_type": "stream",
     "text": [
      "Error: Unable to fetch details from PubMed\n"
     ]
    },
    {
     "name": "stderr",
     "output_type": "stream",
     "text": [
      "\r",
      " 52%|█████▏    | 141/269 [15:28<13:37,  6.39s/it]"
     ]
    },
    {
     "name": "stdout",
     "output_type": "stream",
     "text": [
      "Error: Unable to fetch details from PubMed\n",
      "Error: Unable to fetch details from PubMed\n",
      "Error: Unable to fetch details from PubMed\n"
     ]
    },
    {
     "name": "stderr",
     "output_type": "stream",
     "text": [
      "\r",
      " 53%|█████▎    | 142/269 [15:36<14:19,  6.77s/it]"
     ]
    },
    {
     "name": "stdout",
     "output_type": "stream",
     "text": [
      "Error: Unable to fetch details from PubMed\n",
      "Error: Unable to fetch details from PubMed\n"
     ]
    },
    {
     "name": "stderr",
     "output_type": "stream",
     "text": [
      "\r",
      " 53%|█████▎    | 143/269 [15:42<13:25,  6.39s/it]"
     ]
    },
    {
     "name": "stdout",
     "output_type": "stream",
     "text": [
      "Error: Unable to fetch details from PubMed\n",
      "Error: Unable to fetch details from PubMed\n",
      "Error: Unable to fetch details from PubMed\n"
     ]
    },
    {
     "name": "stderr",
     "output_type": "stream",
     "text": [
      "\r",
      " 54%|█████▎    | 144/269 [15:48<13:37,  6.54s/it]"
     ]
    },
    {
     "name": "stdout",
     "output_type": "stream",
     "text": [
      "Error: Unable to fetch details from PubMed\n",
      "Error: Unable to fetch details from PubMed\n",
      "Error: Unable to fetch details from PubMed\n"
     ]
    },
    {
     "name": "stderr",
     "output_type": "stream",
     "text": [
      "\r",
      " 54%|█████▍    | 145/269 [15:56<14:05,  6.82s/it]"
     ]
    },
    {
     "name": "stdout",
     "output_type": "stream",
     "text": [
      "Error: Unable to fetch details from PubMed\n",
      "Error: Unable to fetch details from PubMed\n"
     ]
    },
    {
     "name": "stderr",
     "output_type": "stream",
     "text": [
      "\r",
      " 54%|█████▍    | 146/269 [16:02<13:24,  6.54s/it]"
     ]
    },
    {
     "name": "stdout",
     "output_type": "stream",
     "text": [
      "Error: Unable to fetch details from PubMed\n",
      "Error: Unable to fetch details from PubMed\n"
     ]
    },
    {
     "name": "stderr",
     "output_type": "stream",
     "text": [
      "\r",
      " 55%|█████▍    | 147/269 [16:08<13:11,  6.49s/it]"
     ]
    },
    {
     "name": "stdout",
     "output_type": "stream",
     "text": [
      "Error: Unable to fetch details from PubMed\n",
      "Error: Unable to fetch details from PubMed\n",
      "Error: Unable to fetch details from PubMed\n"
     ]
    },
    {
     "name": "stderr",
     "output_type": "stream",
     "text": [
      "\r",
      " 55%|█████▌    | 148/269 [16:16<13:37,  6.76s/it]"
     ]
    },
    {
     "name": "stdout",
     "output_type": "stream",
     "text": [
      "Error: Unable to fetch details from PubMed\n",
      "Error: Unable to fetch details from PubMed\n"
     ]
    },
    {
     "name": "stderr",
     "output_type": "stream",
     "text": [
      "\r",
      " 55%|█████▌    | 149/269 [16:20<12:04,  6.04s/it]"
     ]
    },
    {
     "name": "stdout",
     "output_type": "stream",
     "text": [
      "Error: Unable to fetch details from PubMed\n",
      "Error: Unable to fetch details from PubMed\n",
      "Error: Unable to fetch details from PubMed\n"
     ]
    },
    {
     "name": "stderr",
     "output_type": "stream",
     "text": [
      "\r",
      " 56%|█████▌    | 150/269 [16:28<12:59,  6.55s/it]"
     ]
    },
    {
     "name": "stdout",
     "output_type": "stream",
     "text": [
      "Error: Unable to fetch details from PubMed\n",
      "Error: Unable to fetch details from PubMed\n"
     ]
    },
    {
     "name": "stderr",
     "output_type": "stream",
     "text": [
      "\r",
      " 56%|█████▌    | 151/269 [16:33<12:23,  6.30s/it]"
     ]
    },
    {
     "name": "stdout",
     "output_type": "stream",
     "text": [
      "Error: Unable to fetch details from PubMed\n",
      "Error: Unable to fetch details from PubMed\n"
     ]
    },
    {
     "name": "stderr",
     "output_type": "stream",
     "text": [
      "\r",
      " 57%|█████▋    | 152/269 [16:44<14:48,  7.59s/it]"
     ]
    },
    {
     "name": "stdout",
     "output_type": "stream",
     "text": [
      "Error: Unable to fetch details from PubMed\n",
      "Error: Unable to fetch details from PubMed\n"
     ]
    },
    {
     "name": "stderr",
     "output_type": "stream",
     "text": [
      "\r",
      " 57%|█████▋    | 153/269 [16:52<14:45,  7.63s/it]"
     ]
    },
    {
     "name": "stdout",
     "output_type": "stream",
     "text": [
      "Error: Unable to fetch details from PubMed\n",
      "Error: Unable to fetch details from PubMed\n"
     ]
    },
    {
     "name": "stderr",
     "output_type": "stream",
     "text": [
      "\r",
      " 57%|█████▋    | 154/269 [16:57<13:18,  6.94s/it]"
     ]
    },
    {
     "name": "stdout",
     "output_type": "stream",
     "text": [
      "Error: Unable to fetch details from PubMed\n",
      "Error: Unable to fetch details from PubMed\n",
      "Error: Unable to fetch details from PubMed\n"
     ]
    },
    {
     "name": "stderr",
     "output_type": "stream",
     "text": [
      "\r",
      " 58%|█████▊    | 155/269 [17:05<13:34,  7.14s/it]"
     ]
    },
    {
     "name": "stdout",
     "output_type": "stream",
     "text": [
      "Error: Unable to fetch details from PubMed\n",
      "Error: Unable to fetch details from PubMed\n"
     ]
    },
    {
     "name": "stderr",
     "output_type": "stream",
     "text": [
      "\r",
      " 58%|█████▊    | 156/269 [17:10<12:26,  6.61s/it]"
     ]
    },
    {
     "name": "stdout",
     "output_type": "stream",
     "text": [
      "Error: Unable to fetch details from PubMed\n",
      "Error: Unable to fetch details from PubMed\n",
      "Error: Unable to fetch details from PubMed\n"
     ]
    },
    {
     "name": "stderr",
     "output_type": "stream",
     "text": [
      "\r",
      " 58%|█████▊    | 157/269 [17:18<13:00,  6.97s/it]"
     ]
    },
    {
     "name": "stdout",
     "output_type": "stream",
     "text": [
      "Error: Unable to fetch details from PubMed\n"
     ]
    },
    {
     "name": "stderr",
     "output_type": "stream",
     "text": [
      "\r",
      " 59%|█████▊    | 158/269 [17:24<12:41,  6.86s/it]"
     ]
    },
    {
     "name": "stdout",
     "output_type": "stream",
     "text": [
      "Error: Unable to fetch details from PubMed\n",
      "Error: Unable to fetch details from PubMed\n"
     ]
    },
    {
     "name": "stderr",
     "output_type": "stream",
     "text": [
      "\r",
      " 59%|█████▉    | 159/269 [17:30<11:50,  6.46s/it]"
     ]
    },
    {
     "name": "stdout",
     "output_type": "stream",
     "text": [
      "Error: Unable to fetch details from PubMed\n",
      "Error: Unable to fetch details from PubMed\n",
      "Error: Unable to fetch details from PubMed\n"
     ]
    },
    {
     "name": "stderr",
     "output_type": "stream",
     "text": [
      "\r",
      " 59%|█████▉    | 160/269 [17:38<12:22,  6.81s/it]"
     ]
    },
    {
     "name": "stdout",
     "output_type": "stream",
     "text": [
      "Error: Unable to fetch details from PubMed\n",
      "Error: Unable to fetch details from PubMed\n"
     ]
    },
    {
     "name": "stderr",
     "output_type": "stream",
     "text": [
      "\r",
      " 60%|█████▉    | 161/269 [17:46<13:05,  7.27s/it]"
     ]
    },
    {
     "name": "stdout",
     "output_type": "stream",
     "text": [
      "Error: Unable to fetch details from PubMed\n",
      "Error: Unable to fetch details from PubMed\n"
     ]
    },
    {
     "name": "stderr",
     "output_type": "stream",
     "text": [
      "\r",
      " 60%|██████    | 162/269 [17:53<12:54,  7.24s/it]"
     ]
    },
    {
     "name": "stdout",
     "output_type": "stream",
     "text": [
      "Error: Unable to fetch details from PubMed\n",
      "Error: Unable to fetch details from PubMed\n"
     ]
    },
    {
     "name": "stderr",
     "output_type": "stream",
     "text": [
      "\r",
      " 61%|██████    | 163/269 [17:59<12:14,  6.93s/it]"
     ]
    },
    {
     "name": "stdout",
     "output_type": "stream",
     "text": [
      "Error: Unable to fetch details from PubMed\n",
      "Error: Unable to fetch details from PubMed\n"
     ]
    },
    {
     "name": "stderr",
     "output_type": "stream",
     "text": [
      "\r",
      " 61%|██████    | 164/269 [18:05<11:34,  6.61s/it]"
     ]
    },
    {
     "name": "stdout",
     "output_type": "stream",
     "text": [
      "Error: Unable to fetch details from PubMed\n",
      "Error: Unable to fetch details from PubMed\n",
      "Error: Unable to fetch details from PubMed\n"
     ]
    },
    {
     "name": "stderr",
     "output_type": "stream",
     "text": [
      "\r",
      " 61%|██████▏   | 165/269 [18:13<11:52,  6.85s/it]"
     ]
    },
    {
     "name": "stdout",
     "output_type": "stream",
     "text": [
      "Error: Unable to fetch details from PubMed\n",
      "Error: Unable to fetch details from PubMed\n"
     ]
    },
    {
     "name": "stderr",
     "output_type": "stream",
     "text": [
      "\r",
      " 62%|██████▏   | 166/269 [18:18<11:11,  6.52s/it]"
     ]
    },
    {
     "name": "stdout",
     "output_type": "stream",
     "text": [
      "Error: Unable to fetch details from PubMed\n",
      "Error: Unable to fetch details from PubMed\n",
      "Error: Unable to fetch details from PubMed\n"
     ]
    },
    {
     "name": "stderr",
     "output_type": "stream",
     "text": [
      "\r",
      " 62%|██████▏   | 167/269 [18:26<11:31,  6.78s/it]"
     ]
    },
    {
     "name": "stdout",
     "output_type": "stream",
     "text": [
      "Error: Unable to fetch details from PubMed\n",
      "Error: Unable to fetch details from PubMed\n"
     ]
    },
    {
     "name": "stderr",
     "output_type": "stream",
     "text": [
      "\r",
      " 62%|██████▏   | 168/269 [18:30<10:11,  6.05s/it]"
     ]
    },
    {
     "name": "stdout",
     "output_type": "stream",
     "text": [
      "Error: Unable to fetch details from PubMed\n",
      "Error: Unable to fetch details from PubMed\n"
     ]
    },
    {
     "name": "stderr",
     "output_type": "stream",
     "text": [
      "\r",
      " 63%|██████▎   | 169/269 [18:39<11:21,  6.82s/it]"
     ]
    },
    {
     "name": "stdout",
     "output_type": "stream",
     "text": [
      "Error: Unable to fetch details from PubMed\n",
      "Error: Unable to fetch details from PubMed\n"
     ]
    },
    {
     "name": "stderr",
     "output_type": "stream",
     "text": [
      "\r",
      " 63%|██████▎   | 170/269 [18:44<10:36,  6.43s/it]"
     ]
    },
    {
     "name": "stdout",
     "output_type": "stream",
     "text": [
      "Error: Unable to fetch details from PubMed\n",
      "Error: Unable to fetch details from PubMed\n",
      "Error: Unable to fetch details from PubMed\n"
     ]
    },
    {
     "name": "stderr",
     "output_type": "stream",
     "text": [
      "\r",
      " 64%|██████▎   | 171/269 [18:51<10:55,  6.69s/it]"
     ]
    },
    {
     "name": "stdout",
     "output_type": "stream",
     "text": [
      "Error: Unable to fetch details from PubMed\n",
      "Error: Unable to fetch details from PubMed\n"
     ]
    },
    {
     "name": "stderr",
     "output_type": "stream",
     "text": [
      "\r",
      " 64%|██████▍   | 172/269 [18:57<10:12,  6.31s/it]"
     ]
    },
    {
     "name": "stdout",
     "output_type": "stream",
     "text": [
      "Error: Unable to fetch details from PubMed\n",
      "Error: Unable to fetch details from PubMed\n"
     ]
    },
    {
     "name": "stderr",
     "output_type": "stream",
     "text": [
      "\r",
      " 64%|██████▍   | 173/269 [19:04<10:23,  6.50s/it]"
     ]
    },
    {
     "name": "stdout",
     "output_type": "stream",
     "text": [
      "Error: Unable to fetch details from PubMed\n",
      "Error: Unable to fetch details from PubMed\n"
     ]
    },
    {
     "name": "stderr",
     "output_type": "stream",
     "text": [
      "\r",
      " 65%|██████▍   | 174/269 [19:10<10:05,  6.37s/it]"
     ]
    },
    {
     "name": "stdout",
     "output_type": "stream",
     "text": [
      "Error: Unable to fetch details from PubMed\n",
      "Error: Unable to fetch details from PubMed\n"
     ]
    },
    {
     "name": "stderr",
     "output_type": "stream",
     "text": [
      "\r",
      " 65%|██████▌   | 175/269 [19:19<11:28,  7.33s/it]"
     ]
    },
    {
     "name": "stdout",
     "output_type": "stream",
     "text": [
      "Error: Unable to fetch details from PubMed\n",
      "Error: Unable to fetch details from PubMed\n"
     ]
    },
    {
     "name": "stderr",
     "output_type": "stream",
     "text": [
      "\r",
      " 65%|██████▌   | 176/269 [19:25<10:34,  6.82s/it]"
     ]
    },
    {
     "name": "stdout",
     "output_type": "stream",
     "text": [
      "Error: Unable to fetch details from PubMed\n",
      "Error: Unable to fetch details from PubMed\n"
     ]
    },
    {
     "name": "stderr",
     "output_type": "stream",
     "text": [
      "\r",
      " 66%|██████▌   | 177/269 [19:32<10:16,  6.70s/it]"
     ]
    },
    {
     "name": "stdout",
     "output_type": "stream",
     "text": [
      "Error: Unable to fetch details from PubMed\n",
      "Error: Unable to fetch details from PubMed\n"
     ]
    },
    {
     "name": "stderr",
     "output_type": "stream",
     "text": [
      "\r",
      " 66%|██████▌   | 178/269 [19:37<09:33,  6.31s/it]"
     ]
    },
    {
     "name": "stdout",
     "output_type": "stream",
     "text": [
      "Error: Unable to fetch details from PubMed\n"
     ]
    },
    {
     "name": "stderr",
     "output_type": "stream",
     "text": [
      "\r",
      " 67%|██████▋   | 179/269 [19:44<09:57,  6.63s/it]"
     ]
    },
    {
     "name": "stdout",
     "output_type": "stream",
     "text": [
      "Error: Unable to fetch details from PubMed\n",
      "Error: Unable to fetch details from PubMed\n",
      "Error: Unable to fetch details from PubMed\n"
     ]
    },
    {
     "name": "stderr",
     "output_type": "stream",
     "text": [
      "\r",
      " 67%|██████▋   | 180/269 [19:52<10:12,  6.89s/it]"
     ]
    },
    {
     "name": "stdout",
     "output_type": "stream",
     "text": [
      "Error: Unable to fetch details from PubMed\n",
      "Error: Unable to fetch details from PubMed\n"
     ]
    },
    {
     "name": "stderr",
     "output_type": "stream",
     "text": [
      "\r",
      " 67%|██████▋   | 181/269 [19:57<09:27,  6.45s/it]"
     ]
    },
    {
     "name": "stdout",
     "output_type": "stream",
     "text": [
      "Error: Unable to fetch details from PubMed\n",
      "Error: Unable to fetch details from PubMed\n",
      "Error: Unable to fetch details from PubMed\n"
     ]
    },
    {
     "name": "stderr",
     "output_type": "stream",
     "text": [
      "\r",
      " 68%|██████▊   | 182/269 [20:06<10:18,  7.11s/it]"
     ]
    },
    {
     "name": "stdout",
     "output_type": "stream",
     "text": [
      "Error: Unable to fetch details from PubMed\n",
      "Error: Unable to fetch details from PubMed\n"
     ]
    },
    {
     "name": "stderr",
     "output_type": "stream",
     "text": [
      "\r",
      " 68%|██████▊   | 183/269 [20:11<09:28,  6.61s/it]"
     ]
    },
    {
     "name": "stdout",
     "output_type": "stream",
     "text": [
      "Error: Unable to fetch details from PubMed\n",
      "Error: Unable to fetch details from PubMed\n",
      "Error: Unable to fetch details from PubMed\n"
     ]
    },
    {
     "name": "stderr",
     "output_type": "stream",
     "text": [
      "\r",
      " 68%|██████▊   | 184/269 [20:19<09:44,  6.87s/it]"
     ]
    },
    {
     "name": "stdout",
     "output_type": "stream",
     "text": [
      "Error: Unable to fetch details from PubMed\n",
      "Error: Unable to fetch details from PubMed\n"
     ]
    },
    {
     "name": "stderr",
     "output_type": "stream",
     "text": [
      "\r",
      " 69%|██████▉   | 185/269 [20:28<10:26,  7.45s/it]"
     ]
    },
    {
     "name": "stdout",
     "output_type": "stream",
     "text": [
      "Error: Unable to fetch details from PubMed\n",
      "Error: Unable to fetch details from PubMed\n"
     ]
    },
    {
     "name": "stderr",
     "output_type": "stream",
     "text": [
      "\r",
      " 69%|██████▉   | 186/269 [20:34<09:58,  7.21s/it]"
     ]
    },
    {
     "name": "stdout",
     "output_type": "stream",
     "text": [
      "Error: Unable to fetch details from PubMed\n"
     ]
    },
    {
     "name": "stderr",
     "output_type": "stream",
     "text": [
      "\r",
      " 70%|██████▉   | 187/269 [20:43<10:33,  7.73s/it]"
     ]
    },
    {
     "name": "stdout",
     "output_type": "stream",
     "text": [
      "Error: Unable to fetch details from PubMed\n"
     ]
    },
    {
     "name": "stderr",
     "output_type": "stream",
     "text": [
      "\r",
      " 70%|██████▉   | 188/269 [20:46<08:36,  6.38s/it]"
     ]
    },
    {
     "name": "stdout",
     "output_type": "stream",
     "text": [
      "Error: Unable to fetch details from PubMed\n",
      "Error: Unable to fetch details from PubMed\n",
      "Error: Unable to fetch details from PubMed\n"
     ]
    },
    {
     "name": "stderr",
     "output_type": "stream",
     "text": [
      "\r",
      " 70%|███████   | 189/269 [20:54<08:59,  6.74s/it]"
     ]
    },
    {
     "name": "stdout",
     "output_type": "stream",
     "text": [
      "Error: Unable to fetch details from PubMed\n",
      "Error: Unable to fetch details from PubMed\n"
     ]
    },
    {
     "name": "stderr",
     "output_type": "stream",
     "text": [
      "\r",
      " 71%|███████   | 190/269 [20:59<08:19,  6.33s/it]"
     ]
    },
    {
     "name": "stdout",
     "output_type": "stream",
     "text": [
      "Error: Unable to fetch details from PubMed\n",
      "Error: Unable to fetch details from PubMed\n",
      "Error: Unable to fetch details from PubMed\n"
     ]
    },
    {
     "name": "stderr",
     "output_type": "stream",
     "text": [
      "\r",
      " 71%|███████   | 191/269 [21:07<08:43,  6.71s/it]"
     ]
    },
    {
     "name": "stdout",
     "output_type": "stream",
     "text": [
      "Error: Unable to fetch details from PubMed\n",
      "Error: Unable to fetch details from PubMed\n"
     ]
    },
    {
     "name": "stderr",
     "output_type": "stream",
     "text": [
      "\r",
      " 71%|███████▏  | 192/269 [21:12<08:03,  6.28s/it]"
     ]
    },
    {
     "name": "stdout",
     "output_type": "stream",
     "text": [
      "Error: Unable to fetch details from PubMed\n",
      "Error: Unable to fetch details from PubMed\n",
      "Error: Unable to fetch details from PubMed\n"
     ]
    },
    {
     "name": "stderr",
     "output_type": "stream",
     "text": [
      "\r",
      " 72%|███████▏  | 193/269 [21:20<08:27,  6.67s/it]"
     ]
    },
    {
     "name": "stdout",
     "output_type": "stream",
     "text": [
      "Error: Unable to fetch details from PubMed\n"
     ]
    },
    {
     "name": "stderr",
     "output_type": "stream",
     "text": [
      "\r",
      " 72%|███████▏  | 194/269 [21:26<08:12,  6.56s/it]"
     ]
    },
    {
     "name": "stdout",
     "output_type": "stream",
     "text": [
      "Error: Unable to fetch details from PubMed\n",
      "Error: Unable to fetch details from PubMed\n"
     ]
    },
    {
     "name": "stderr",
     "output_type": "stream",
     "text": [
      "\r",
      " 72%|███████▏  | 195/269 [21:34<08:24,  6.82s/it]"
     ]
    },
    {
     "name": "stdout",
     "output_type": "stream",
     "text": [
      "Error: Unable to fetch details from PubMed\n"
     ]
    },
    {
     "name": "stderr",
     "output_type": "stream",
     "text": [
      "\r",
      " 73%|███████▎  | 196/269 [21:39<07:57,  6.54s/it]"
     ]
    },
    {
     "name": "stdout",
     "output_type": "stream",
     "text": [
      "Error: Unable to fetch details from PubMed\n",
      "Error: Unable to fetch details from PubMed\n",
      "Error: Unable to fetch details from PubMed\n"
     ]
    },
    {
     "name": "stderr",
     "output_type": "stream",
     "text": [
      "\r",
      " 73%|███████▎  | 197/269 [21:47<08:18,  6.93s/it]"
     ]
    },
    {
     "name": "stdout",
     "output_type": "stream",
     "text": [
      "Error: Unable to fetch details from PubMed\n",
      "Error: Unable to fetch details from PubMed\n"
     ]
    },
    {
     "name": "stderr",
     "output_type": "stream",
     "text": [
      "\r",
      " 74%|███████▎  | 198/269 [21:53<07:41,  6.50s/it]"
     ]
    },
    {
     "name": "stdout",
     "output_type": "stream",
     "text": [
      "Error: Unable to fetch details from PubMed\n",
      "Error: Unable to fetch details from PubMed\n",
      "Error: Unable to fetch details from PubMed\n"
     ]
    },
    {
     "name": "stderr",
     "output_type": "stream",
     "text": [
      "\r",
      " 74%|███████▍  | 199/269 [22:02<08:35,  7.37s/it]"
     ]
    },
    {
     "name": "stdout",
     "output_type": "stream",
     "text": [
      "Error: Unable to fetch details from PubMed\n",
      "Error: Unable to fetch details from PubMed\n"
     ]
    },
    {
     "name": "stderr",
     "output_type": "stream",
     "text": [
      "\r",
      " 74%|███████▍  | 200/269 [22:08<07:56,  6.91s/it]"
     ]
    },
    {
     "name": "stdout",
     "output_type": "stream",
     "text": [
      "Error: Unable to fetch details from PubMed\n",
      "Error: Unable to fetch details from PubMed\n"
     ]
    },
    {
     "name": "stderr",
     "output_type": "stream",
     "text": [
      "\r",
      " 75%|███████▍  | 201/269 [22:13<07:16,  6.42s/it]"
     ]
    },
    {
     "name": "stdout",
     "output_type": "stream",
     "text": [
      "Error: Unable to fetch details from PubMed\n"
     ]
    },
    {
     "name": "stderr",
     "output_type": "stream",
     "text": [
      "\r",
      " 75%|███████▌  | 202/269 [22:20<07:07,  6.39s/it]"
     ]
    },
    {
     "name": "stdout",
     "output_type": "stream",
     "text": [
      "Error: Unable to fetch details from PubMed\n",
      "Error: Unable to fetch details from PubMed\n",
      "Error: Unable to fetch details from PubMed\n"
     ]
    },
    {
     "name": "stderr",
     "output_type": "stream",
     "text": [
      "\r",
      " 75%|███████▌  | 203/269 [22:27<07:24,  6.73s/it]"
     ]
    },
    {
     "name": "stdout",
     "output_type": "stream",
     "text": [
      "Error: Unable to fetch details from PubMed\n"
     ]
    },
    {
     "name": "stderr",
     "output_type": "stream",
     "text": [
      "\r",
      " 76%|███████▌  | 204/269 [22:34<07:12,  6.66s/it]"
     ]
    },
    {
     "name": "stdout",
     "output_type": "stream",
     "text": [
      "Error: Unable to fetch details from PubMed\n",
      "Error: Unable to fetch details from PubMed\n",
      "Error: Unable to fetch details from PubMed\n"
     ]
    },
    {
     "name": "stderr",
     "output_type": "stream",
     "text": [
      "\r",
      " 76%|███████▌  | 205/269 [22:41<07:19,  6.87s/it]"
     ]
    },
    {
     "name": "stdout",
     "output_type": "stream",
     "text": [
      "Error: Unable to fetch details from PubMed\n",
      "Error: Unable to fetch details from PubMed\n"
     ]
    },
    {
     "name": "stderr",
     "output_type": "stream",
     "text": [
      "\r",
      " 77%|███████▋  | 206/269 [22:47<06:48,  6.49s/it]"
     ]
    },
    {
     "name": "stdout",
     "output_type": "stream",
     "text": [
      "Error: Unable to fetch details from PubMed\n"
     ]
    },
    {
     "name": "stderr",
     "output_type": "stream",
     "text": [
      "\r",
      " 77%|███████▋  | 207/269 [22:53<06:44,  6.52s/it]"
     ]
    },
    {
     "name": "stdout",
     "output_type": "stream",
     "text": [
      "Error: Unable to fetch details from PubMed\n",
      "Error: Unable to fetch details from PubMed\n",
      "Error: Unable to fetch details from PubMed\n"
     ]
    },
    {
     "name": "stderr",
     "output_type": "stream",
     "text": [
      "\r",
      " 77%|███████▋  | 208/269 [23:01<06:55,  6.81s/it]"
     ]
    },
    {
     "name": "stdout",
     "output_type": "stream",
     "text": [
      "Error: Unable to fetch details from PubMed\n",
      "Error: Unable to fetch details from PubMed\n"
     ]
    },
    {
     "name": "stderr",
     "output_type": "stream",
     "text": [
      "\r",
      " 78%|███████▊  | 209/269 [23:06<06:23,  6.39s/it]"
     ]
    },
    {
     "name": "stdout",
     "output_type": "stream",
     "text": [
      "Error: Unable to fetch details from PubMed\n",
      "Error: Unable to fetch details from PubMed\n"
     ]
    },
    {
     "name": "stderr",
     "output_type": "stream",
     "text": [
      "\r",
      " 78%|███████▊  | 210/269 [23:14<06:40,  6.79s/it]"
     ]
    },
    {
     "name": "stdout",
     "output_type": "stream",
     "text": [
      "Error: Unable to fetch details from PubMed\n",
      "Error: Unable to fetch details from PubMed\n",
      "Error: Unable to fetch details from PubMed\n"
     ]
    },
    {
     "name": "stderr",
     "output_type": "stream",
     "text": [
      "\r",
      " 78%|███████▊  | 211/269 [23:22<06:54,  7.15s/it]"
     ]
    },
    {
     "name": "stdout",
     "output_type": "stream",
     "text": [
      "Error: Unable to fetch details from PubMed\n",
      "Error: Unable to fetch details from PubMed\n"
     ]
    },
    {
     "name": "stderr",
     "output_type": "stream",
     "text": [
      "\r",
      " 79%|███████▉  | 212/269 [23:27<06:20,  6.68s/it]"
     ]
    },
    {
     "name": "stdout",
     "output_type": "stream",
     "text": [
      "Error: Unable to fetch details from PubMed\n",
      "Error: Unable to fetch details from PubMed\n",
      "Error: Unable to fetch details from PubMed\n"
     ]
    },
    {
     "name": "stderr",
     "output_type": "stream",
     "text": [
      "\r",
      " 79%|███████▉  | 213/269 [23:35<06:28,  6.93s/it]"
     ]
    },
    {
     "name": "stdout",
     "output_type": "stream",
     "text": [
      "Error: Unable to fetch details from PubMed\n",
      "Error: Unable to fetch details from PubMed\n"
     ]
    },
    {
     "name": "stderr",
     "output_type": "stream",
     "text": [
      "\r",
      " 80%|███████▉  | 214/269 [23:41<06:12,  6.77s/it]"
     ]
    },
    {
     "name": "stdout",
     "output_type": "stream",
     "text": [
      "Error: Unable to fetch details from PubMed\n",
      "Error: Unable to fetch details from PubMed\n"
     ]
    },
    {
     "name": "stderr",
     "output_type": "stream",
     "text": [
      "\r",
      " 80%|███████▉  | 215/269 [23:47<05:41,  6.33s/it]"
     ]
    },
    {
     "name": "stdout",
     "output_type": "stream",
     "text": [
      "Error: Unable to fetch details from PubMed\n",
      "Error: Unable to fetch details from PubMed\n",
      "Error: Unable to fetch details from PubMed\n"
     ]
    },
    {
     "name": "stderr",
     "output_type": "stream",
     "text": [
      "\r",
      " 80%|████████  | 216/269 [23:54<05:55,  6.70s/it]"
     ]
    },
    {
     "name": "stdout",
     "output_type": "stream",
     "text": [
      "Error: Unable to fetch details from PubMed\n",
      "Error: Unable to fetch details from PubMed\n"
     ]
    },
    {
     "name": "stderr",
     "output_type": "stream",
     "text": [
      "\r",
      " 81%|████████  | 217/269 [24:00<05:29,  6.35s/it]"
     ]
    },
    {
     "name": "stdout",
     "output_type": "stream",
     "text": [
      "Error: Unable to fetch details from PubMed\n",
      "Error: Unable to fetch details from PubMed\n",
      "Error: Unable to fetch details from PubMed\n"
     ]
    },
    {
     "name": "stderr",
     "output_type": "stream",
     "text": [
      "\r",
      " 81%|████████  | 218/269 [24:07<05:43,  6.73s/it]"
     ]
    },
    {
     "name": "stdout",
     "output_type": "stream",
     "text": [
      "Error: Unable to fetch details from PubMed\n",
      "Error: Unable to fetch details from PubMed\n"
     ]
    },
    {
     "name": "stderr",
     "output_type": "stream",
     "text": [
      "\r",
      " 81%|████████▏ | 219/269 [24:13<05:22,  6.44s/it]"
     ]
    },
    {
     "name": "stdout",
     "output_type": "stream",
     "text": [
      "Error: Unable to fetch details from PubMed\n",
      "Error: Unable to fetch details from PubMed\n"
     ]
    },
    {
     "name": "stderr",
     "output_type": "stream",
     "text": [
      "\r",
      " 82%|████████▏ | 220/269 [24:20<05:19,  6.52s/it]"
     ]
    },
    {
     "name": "stdout",
     "output_type": "stream",
     "text": [
      "Error: Unable to fetch details from PubMed\n",
      "Error: Unable to fetch details from PubMed\n"
     ]
    },
    {
     "name": "stderr",
     "output_type": "stream",
     "text": [
      "\r",
      " 82%|████████▏ | 221/269 [24:27<05:27,  6.82s/it]"
     ]
    },
    {
     "name": "stdout",
     "output_type": "stream",
     "text": [
      "Error: Unable to fetch details from PubMed\n"
     ]
    },
    {
     "name": "stderr",
     "output_type": "stream",
     "text": [
      "\r",
      " 83%|████████▎ | 222/269 [24:34<05:14,  6.70s/it]"
     ]
    },
    {
     "name": "stdout",
     "output_type": "stream",
     "text": [
      "Error: Unable to fetch details from PubMed\n",
      "Error: Unable to fetch details from PubMed\n"
     ]
    },
    {
     "name": "stderr",
     "output_type": "stream",
     "text": [
      "\r",
      " 83%|████████▎ | 223/269 [24:42<05:33,  7.25s/it]"
     ]
    },
    {
     "name": "stdout",
     "output_type": "stream",
     "text": [
      "Error: Unable to fetch details from PubMed\n",
      "Error: Unable to fetch details from PubMed\n"
     ]
    },
    {
     "name": "stderr",
     "output_type": "stream",
     "text": [
      "\r",
      " 83%|████████▎ | 224/269 [24:48<04:59,  6.67s/it]"
     ]
    },
    {
     "name": "stdout",
     "output_type": "stream",
     "text": [
      "Error: Unable to fetch details from PubMed\n",
      "Error: Unable to fetch details from PubMed\n",
      "Error: Unable to fetch details from PubMed\n"
     ]
    },
    {
     "name": "stderr",
     "output_type": "stream",
     "text": [
      "\r",
      " 84%|████████▎ | 225/269 [24:55<05:04,  6.92s/it]"
     ]
    },
    {
     "name": "stdout",
     "output_type": "stream",
     "text": [
      "Error: Unable to fetch details from PubMed\n",
      "Error: Unable to fetch details from PubMed\n"
     ]
    },
    {
     "name": "stderr",
     "output_type": "stream",
     "text": [
      "\r",
      " 84%|████████▍ | 226/269 [25:01<04:50,  6.76s/it]"
     ]
    },
    {
     "name": "stdout",
     "output_type": "stream",
     "text": [
      "Error: Unable to fetch details from PubMed\n"
     ]
    },
    {
     "name": "stderr",
     "output_type": "stream",
     "text": [
      "\r",
      " 84%|████████▍ | 227/269 [25:09<04:59,  7.12s/it]"
     ]
    },
    {
     "name": "stdout",
     "output_type": "stream",
     "text": [
      "Error: Unable to fetch details from PubMed\n"
     ]
    },
    {
     "name": "stderr",
     "output_type": "stream",
     "text": [
      "\r",
      " 85%|████████▍ | 228/269 [25:16<04:43,  6.90s/it]"
     ]
    },
    {
     "name": "stdout",
     "output_type": "stream",
     "text": [
      "Error: Unable to fetch details from PubMed\n",
      "Error: Unable to fetch details from PubMed\n"
     ]
    },
    {
     "name": "stderr",
     "output_type": "stream",
     "text": [
      "\r",
      " 85%|████████▌ | 229/269 [25:22<04:31,  6.80s/it]"
     ]
    },
    {
     "name": "stdout",
     "output_type": "stream",
     "text": [
      "Error: Unable to fetch details from PubMed\n"
     ]
    },
    {
     "name": "stderr",
     "output_type": "stream",
     "text": [
      "\r",
      " 86%|████████▌ | 230/269 [25:30<04:36,  7.08s/it]"
     ]
    },
    {
     "name": "stdout",
     "output_type": "stream",
     "text": [
      "Error: Unable to fetch details from PubMed\n",
      "Error: Unable to fetch details from PubMed\n"
     ]
    },
    {
     "name": "stderr",
     "output_type": "stream",
     "text": [
      "\r",
      " 86%|████████▌ | 231/269 [25:36<04:11,  6.61s/it]"
     ]
    },
    {
     "name": "stdout",
     "output_type": "stream",
     "text": [
      "Error: Unable to fetch details from PubMed\n",
      "Error: Unable to fetch details from PubMed\n",
      "Error: Unable to fetch details from PubMed\n"
     ]
    },
    {
     "name": "stderr",
     "output_type": "stream",
     "text": [
      "\r",
      " 86%|████████▌ | 232/269 [25:43<04:14,  6.87s/it]"
     ]
    },
    {
     "name": "stdout",
     "output_type": "stream",
     "text": [
      "Error: Unable to fetch details from PubMed\n"
     ]
    },
    {
     "name": "stderr",
     "output_type": "stream",
     "text": [
      "\r",
      " 87%|████████▋ | 233/269 [25:50<04:06,  6.85s/it]"
     ]
    },
    {
     "name": "stdout",
     "output_type": "stream",
     "text": [
      "Error: Unable to fetch details from PubMed\n",
      "Error: Unable to fetch details from PubMed\n"
     ]
    },
    {
     "name": "stderr",
     "output_type": "stream",
     "text": [
      "\r",
      " 87%|████████▋ | 234/269 [25:55<03:46,  6.46s/it]"
     ]
    },
    {
     "name": "stdout",
     "output_type": "stream",
     "text": [
      "Error: Unable to fetch details from PubMed\n",
      "Error: Unable to fetch details from PubMed\n",
      "Error: Unable to fetch details from PubMed\n"
     ]
    },
    {
     "name": "stderr",
     "output_type": "stream",
     "text": [
      "\r",
      " 87%|████████▋ | 235/269 [26:03<03:55,  6.92s/it]"
     ]
    },
    {
     "name": "stdout",
     "output_type": "stream",
     "text": [
      "Error: Unable to fetch details from PubMed\n",
      "Error: Unable to fetch details from PubMed\n"
     ]
    },
    {
     "name": "stderr",
     "output_type": "stream",
     "text": [
      "\r",
      " 88%|████████▊ | 236/269 [26:09<03:32,  6.45s/it]"
     ]
    },
    {
     "name": "stdout",
     "output_type": "stream",
     "text": [
      "Error: Unable to fetch details from PubMed\n"
     ]
    },
    {
     "name": "stderr",
     "output_type": "stream",
     "text": [
      "\r",
      " 88%|████████▊ | 237/269 [26:13<03:07,  5.86s/it]"
     ]
    },
    {
     "name": "stdout",
     "output_type": "stream",
     "text": [
      "Error: Unable to fetch details from PubMed\n",
      "Error: Unable to fetch details from PubMed\n",
      "Error: Unable to fetch details from PubMed\n"
     ]
    },
    {
     "name": "stderr",
     "output_type": "stream",
     "text": [
      "\r",
      " 88%|████████▊ | 238/269 [26:21<03:22,  6.53s/it]"
     ]
    },
    {
     "name": "stdout",
     "output_type": "stream",
     "text": [
      "Error: Unable to fetch details from PubMed\n",
      "Error: Unable to fetch details from PubMed\n"
     ]
    },
    {
     "name": "stderr",
     "output_type": "stream",
     "text": [
      "\r",
      " 89%|████████▉ | 239/269 [26:27<03:05,  6.17s/it]"
     ]
    },
    {
     "name": "stdout",
     "output_type": "stream",
     "text": [
      "Error: Unable to fetch details from PubMed\n",
      "Error: Unable to fetch details from PubMed\n",
      "Error: Unable to fetch details from PubMed\n"
     ]
    },
    {
     "name": "stderr",
     "output_type": "stream",
     "text": [
      "\r",
      " 89%|████████▉ | 240/269 [26:34<03:11,  6.59s/it]"
     ]
    },
    {
     "name": "stdout",
     "output_type": "stream",
     "text": [
      "Error: Unable to fetch details from PubMed\n",
      "Error: Unable to fetch details from PubMed\n"
     ]
    },
    {
     "name": "stderr",
     "output_type": "stream",
     "text": [
      "\r",
      " 90%|████████▉ | 241/269 [26:41<03:08,  6.72s/it]"
     ]
    },
    {
     "name": "stdout",
     "output_type": "stream",
     "text": [
      "Error: Unable to fetch details from PubMed\n",
      "Error: Unable to fetch details from PubMed\n"
     ]
    },
    {
     "name": "stderr",
     "output_type": "stream",
     "text": [
      "\r",
      " 90%|████████▉ | 242/269 [26:47<02:50,  6.30s/it]"
     ]
    },
    {
     "name": "stdout",
     "output_type": "stream",
     "text": [
      "Error: Unable to fetch details from PubMed\n",
      "Error: Unable to fetch details from PubMed\n",
      "Error: Unable to fetch details from PubMed\n"
     ]
    },
    {
     "name": "stderr",
     "output_type": "stream",
     "text": [
      "\r",
      " 90%|█████████ | 243/269 [26:54<02:52,  6.65s/it]"
     ]
    },
    {
     "name": "stdout",
     "output_type": "stream",
     "text": [
      "Error: Unable to fetch details from PubMed\n",
      "Error: Unable to fetch details from PubMed\n"
     ]
    },
    {
     "name": "stderr",
     "output_type": "stream",
     "text": [
      "\r",
      " 91%|█████████ | 244/269 [27:00<02:39,  6.37s/it]"
     ]
    },
    {
     "name": "stdout",
     "output_type": "stream",
     "text": [
      "Error: Unable to fetch details from PubMed\n",
      "Error: Unable to fetch details from PubMed\n"
     ]
    },
    {
     "name": "stderr",
     "output_type": "stream",
     "text": [
      "\r",
      " 91%|█████████ | 245/269 [27:08<02:48,  7.00s/it]"
     ]
    },
    {
     "name": "stdout",
     "output_type": "stream",
     "text": [
      "Error: Unable to fetch details from PubMed\n",
      "Error: Unable to fetch details from PubMed\n"
     ]
    },
    {
     "name": "stderr",
     "output_type": "stream",
     "text": [
      "\r",
      " 91%|█████████▏| 246/269 [27:14<02:30,  6.53s/it]"
     ]
    },
    {
     "name": "stdout",
     "output_type": "stream",
     "text": [
      "Error: Unable to fetch details from PubMed\n",
      "Error: Unable to fetch details from PubMed\n",
      "Error: Unable to fetch details from PubMed\n"
     ]
    },
    {
     "name": "stderr",
     "output_type": "stream",
     "text": [
      "\r",
      " 92%|█████████▏| 247/269 [27:21<02:29,  6.81s/it]"
     ]
    },
    {
     "name": "stdout",
     "output_type": "stream",
     "text": [
      "Error: Unable to fetch details from PubMed\n",
      "Error: Unable to fetch details from PubMed\n"
     ]
    },
    {
     "name": "stderr",
     "output_type": "stream",
     "text": [
      "\r",
      " 92%|█████████▏| 248/269 [27:27<02:19,  6.67s/it]"
     ]
    },
    {
     "name": "stdout",
     "output_type": "stream",
     "text": [
      "Error: Unable to fetch details from PubMed\n",
      "Error: Unable to fetch details from PubMed\n"
     ]
    },
    {
     "name": "stderr",
     "output_type": "stream",
     "text": [
      "\r",
      " 93%|█████████▎| 249/269 [27:33<02:07,  6.35s/it]"
     ]
    },
    {
     "name": "stdout",
     "output_type": "stream",
     "text": [
      "Error: Unable to fetch details from PubMed\n"
     ]
    },
    {
     "name": "stderr",
     "output_type": "stream",
     "text": [
      "\r",
      " 93%|█████████▎| 250/269 [27:39<02:00,  6.34s/it]"
     ]
    },
    {
     "name": "stdout",
     "output_type": "stream",
     "text": [
      "Error: Unable to fetch details from PubMed\n",
      "Error: Unable to fetch details from PubMed\n"
     ]
    },
    {
     "name": "stderr",
     "output_type": "stream",
     "text": [
      "\r",
      " 93%|█████████▎| 251/269 [27:46<01:54,  6.34s/it]"
     ]
    },
    {
     "name": "stdout",
     "output_type": "stream",
     "text": [
      "Error: Unable to fetch details from PubMed\n",
      "Error: Unable to fetch details from PubMed\n"
     ]
    },
    {
     "name": "stderr",
     "output_type": "stream",
     "text": [
      "\r",
      " 94%|█████████▎| 252/269 [27:53<01:50,  6.48s/it]"
     ]
    },
    {
     "name": "stdout",
     "output_type": "stream",
     "text": [
      "Error: Unable to fetch details from PubMed\n",
      "Error: Unable to fetch details from PubMed\n",
      "Error: Unable to fetch details from PubMed\n"
     ]
    },
    {
     "name": "stderr",
     "output_type": "stream",
     "text": [
      "\r",
      " 94%|█████████▍| 253/269 [28:00<01:48,  6.75s/it]"
     ]
    },
    {
     "name": "stdout",
     "output_type": "stream",
     "text": [
      "['TOP1MT', 'TOP1', 'MIR2278', 'MIR6728', 'MMP3']\n",
      "Error: Unable to fetch details from PubMed\n",
      "Error: Unable to fetch details from PubMed\n"
     ]
    },
    {
     "name": "stderr",
     "output_type": "stream",
     "text": [
      "\r",
      " 94%|█████████▍| 254/269 [28:06<01:40,  6.68s/it]"
     ]
    },
    {
     "name": "stdout",
     "output_type": "stream",
     "text": [
      "Error: Unable to fetch details from PubMed\n",
      "Error: Unable to fetch details from PubMed\n"
     ]
    },
    {
     "name": "stderr",
     "output_type": "stream",
     "text": [
      "\r",
      " 95%|█████████▍| 255/269 [28:13<01:32,  6.62s/it]"
     ]
    },
    {
     "name": "stdout",
     "output_type": "stream",
     "text": [
      "Error: Unable to fetch details from PubMed\n",
      "Error: Unable to fetch details from PubMed\n"
     ]
    },
    {
     "name": "stderr",
     "output_type": "stream",
     "text": [
      "\r",
      " 95%|█████████▌| 256/269 [28:18<01:20,  6.20s/it]"
     ]
    },
    {
     "name": "stdout",
     "output_type": "stream",
     "text": [
      "Error: Unable to fetch details from PubMed\n",
      "Error: Unable to fetch details from PubMed\n",
      "Error: Unable to fetch details from PubMed\n"
     ]
    },
    {
     "name": "stderr",
     "output_type": "stream",
     "text": [
      "\r",
      " 96%|█████████▌| 257/269 [28:26<01:19,  6.62s/it]"
     ]
    },
    {
     "name": "stdout",
     "output_type": "stream",
     "text": [
      "Error: Unable to fetch details from PubMed\n",
      "Error: Unable to fetch details from PubMed\n"
     ]
    },
    {
     "name": "stderr",
     "output_type": "stream",
     "text": [
      "\r",
      " 96%|█████████▌| 258/269 [28:31<01:09,  6.29s/it]"
     ]
    },
    {
     "name": "stdout",
     "output_type": "stream",
     "text": [
      "Error: Unable to fetch details from PubMed\n",
      "Error: Unable to fetch details from PubMed\n",
      "Error: Unable to fetch details from PubMed\n"
     ]
    },
    {
     "name": "stderr",
     "output_type": "stream",
     "text": [
      "\r",
      " 96%|█████████▋| 259/269 [28:39<01:06,  6.62s/it]"
     ]
    },
    {
     "name": "stdout",
     "output_type": "stream",
     "text": [
      "Error: Unable to fetch details from PubMed\n",
      "Error: Unable to fetch details from PubMed\n"
     ]
    },
    {
     "name": "stderr",
     "output_type": "stream",
     "text": [
      "\r",
      " 97%|█████████▋| 260/269 [28:44<00:57,  6.35s/it]"
     ]
    },
    {
     "name": "stdout",
     "output_type": "stream",
     "text": [
      "Error: Unable to fetch details from PubMed\n",
      "Error: Unable to fetch details from PubMed\n",
      "Error: Unable to fetch details from PubMed\n"
     ]
    },
    {
     "name": "stderr",
     "output_type": "stream",
     "text": [
      "\r",
      " 97%|█████████▋| 261/269 [28:52<00:53,  6.64s/it]"
     ]
    },
    {
     "name": "stdout",
     "output_type": "stream",
     "text": [
      "Error: Unable to fetch details from PubMed\n",
      "Error: Unable to fetch details from PubMed\n"
     ]
    },
    {
     "name": "stderr",
     "output_type": "stream",
     "text": [
      "\r",
      " 97%|█████████▋| 262/269 [28:58<00:45,  6.54s/it]"
     ]
    },
    {
     "name": "stdout",
     "output_type": "stream",
     "text": [
      "Error: Unable to fetch details from PubMed\n",
      "Error: Unable to fetch details from PubMed\n"
     ]
    },
    {
     "name": "stderr",
     "output_type": "stream",
     "text": [
      "\r",
      " 98%|█████████▊| 263/269 [29:03<00:36,  6.16s/it]"
     ]
    },
    {
     "name": "stdout",
     "output_type": "stream",
     "text": [
      "Error: Unable to fetch details from PubMed\n",
      "Error: Unable to fetch details from PubMed\n",
      "Error: Unable to fetch details from PubMed\n"
     ]
    },
    {
     "name": "stderr",
     "output_type": "stream",
     "text": [
      "\r",
      " 98%|█████████▊| 264/269 [29:11<00:32,  6.54s/it]"
     ]
    },
    {
     "name": "stdout",
     "output_type": "stream",
     "text": [
      "Error: Unable to fetch details from PubMed\n",
      "Error: Unable to fetch details from PubMed\n"
     ]
    },
    {
     "name": "stderr",
     "output_type": "stream",
     "text": [
      "\r",
      " 99%|█████████▊| 265/269 [29:16<00:24,  6.22s/it]"
     ]
    },
    {
     "name": "stdout",
     "output_type": "stream",
     "text": [
      "Error: Unable to fetch details from PubMed\n",
      "Error: Unable to fetch details from PubMed\n",
      "Error: Unable to fetch details from PubMed\n"
     ]
    },
    {
     "name": "stderr",
     "output_type": "stream",
     "text": [
      "\r",
      " 99%|█████████▉| 266/269 [29:25<00:20,  6.89s/it]"
     ]
    },
    {
     "name": "stdout",
     "output_type": "stream",
     "text": [
      "Error: Unable to fetch details from PubMed\n",
      "Error: Unable to fetch details from PubMed\n"
     ]
    },
    {
     "name": "stderr",
     "output_type": "stream",
     "text": [
      "\r",
      " 99%|█████████▉| 267/269 [29:30<00:12,  6.41s/it]"
     ]
    },
    {
     "name": "stdout",
     "output_type": "stream",
     "text": [
      "Error: Unable to fetch details from PubMed\n",
      "Error: Unable to fetch details from PubMed\n",
      "Error: Unable to fetch details from PubMed\n"
     ]
    },
    {
     "name": "stderr",
     "output_type": "stream",
     "text": [
      "\r",
      "100%|█████████▉| 268/269 [29:37<00:06,  6.73s/it]"
     ]
    },
    {
     "name": "stdout",
     "output_type": "stream",
     "text": [
      "Error: Unable to fetch details from PubMed\n",
      "Error: Unable to fetch details from PubMed\n"
     ]
    },
    {
     "name": "stderr",
     "output_type": "stream",
     "text": [
      "100%|██████████| 269/269 [29:43<00:00,  6.63s/it]"
     ]
    },
    {
     "name": "stdout",
     "output_type": "stream",
     "text": [
      "Error: Unable to fetch details from PubMed\n"
     ]
    },
    {
     "name": "stderr",
     "output_type": "stream",
     "text": [
      "\n"
     ]
    }
   ],
   "source": [
    "results = []\n",
    "pmid_list = []\n",
    "for drug in tqdm(att_dg.index):\n",
    "    genes = list(att_dg.loc[drug].sort_values(ascending=False).head(5).index)\n",
    "    if drug == 759263:\n",
    "        print(genes)\n",
    "\n",
    "    for gene in genes:\n",
    "\n",
    "        d = conv[int(drug)]\n",
    "        if d == \"benzaldehyde (BEN)\":\n",
    "            d = \"benzaldehyde\"\n",
    "        elif \"Derivative\" in d:\n",
    "            d = d[:-11]\n",
    "\n",
    "        if \"ADA\" == gene:\n",
    "            gene = \"adenosine deaminase\"\n",
    "\n",
    "        pmids = search_pubmed(\"{} AND {}\".format(d, gene), max_results=300)\n",
    "        pmid_list.append([drug, gene, pmids])\n",
    "        if pmids != None:\n",
    "            details = fetch_details(pmids)\n",
    "            if details != None:\n",
    "                details = details.decode(\"utf-8\")\n",
    "                res = pd.DataFrame(parse_pubmed_efetch(details))\n",
    "                if len(res) > 0:\n",
    "                    results.append(\n",
    "                        [\n",
    "                            drug,\n",
    "                            conv[int(drug)],\n",
    "                            gene,\n",
    "                            len(pmids),\n",
    "                            len(\n",
    "                                (\n",
    "                                    res[\n",
    "                                        res.journal.str.lower().isin(\n",
    "                                            set(j_list[\"Title\"].str.lower())\n",
    "                                        )\n",
    "                                    ]\n",
    "                                )\n",
    "                            ),\n",
    "                        ]\n",
    "                    )\n",
    "                else:\n",
    "                    results.append([drug, conv[int(drug)], gene, len(pmids), 0])\n",
    "            else:\n",
    "                results.append([drug, conv[int(drug)], gene, len(pmids), 0])\n",
    "        else:\n",
    "            results.append([drug, conv[int(drug)], gene, 0, 0])"
   ]
  },
  {
   "cell_type": "code",
   "execution_count": 48,
   "id": "8dcce570",
   "metadata": {},
   "outputs": [
    {
     "data": {
      "text/html": [
       "<div>\n",
       "<style scoped>\n",
       "    .dataframe tbody tr th:only-of-type {\n",
       "        vertical-align: middle;\n",
       "    }\n",
       "\n",
       "    .dataframe tbody tr th {\n",
       "        vertical-align: top;\n",
       "    }\n",
       "\n",
       "    .dataframe thead th {\n",
       "        text-align: right;\n",
       "    }\n",
       "</style>\n",
       "<table border=\"1\" class=\"dataframe\">\n",
       "  <thead>\n",
       "    <tr style=\"text-align: right;\">\n",
       "      <th></th>\n",
       "      <th>NSC</th>\n",
       "      <th>drug</th>\n",
       "      <th>gene</th>\n",
       "      <th>num</th>\n",
       "      <th>num in journals</th>\n",
       "    </tr>\n",
       "  </thead>\n",
       "  <tbody>\n",
       "    <tr>\n",
       "      <th>0</th>\n",
       "      <td>740</td>\n",
       "      <td>METHOTREXATE</td>\n",
       "      <td>ATIC</td>\n",
       "      <td>58</td>\n",
       "      <td>44</td>\n",
       "    </tr>\n",
       "    <tr>\n",
       "      <th>1</th>\n",
       "      <td>740</td>\n",
       "      <td>METHOTREXATE</td>\n",
       "      <td>TYMS</td>\n",
       "      <td>65</td>\n",
       "      <td>0</td>\n",
       "    </tr>\n",
       "    <tr>\n",
       "      <th>2</th>\n",
       "      <td>740</td>\n",
       "      <td>METHOTREXATE</td>\n",
       "      <td>DHFR</td>\n",
       "      <td>300</td>\n",
       "      <td>210</td>\n",
       "    </tr>\n",
       "    <tr>\n",
       "      <th>3</th>\n",
       "      <td>740</td>\n",
       "      <td>METHOTREXATE</td>\n",
       "      <td>MIR330</td>\n",
       "      <td>0</td>\n",
       "      <td>0</td>\n",
       "    </tr>\n",
       "    <tr>\n",
       "      <th>4</th>\n",
       "      <td>740</td>\n",
       "      <td>METHOTREXATE</td>\n",
       "      <td>SNORD16</td>\n",
       "      <td>0</td>\n",
       "      <td>0</td>\n",
       "    </tr>\n",
       "    <tr>\n",
       "      <th>...</th>\n",
       "      <td>...</td>\n",
       "      <td>...</td>\n",
       "      <td>...</td>\n",
       "      <td>...</td>\n",
       "      <td>...</td>\n",
       "    </tr>\n",
       "    <tr>\n",
       "      <th>1340</th>\n",
       "      <td>791785</td>\n",
       "      <td>Sapacitabine</td>\n",
       "      <td>PGR</td>\n",
       "      <td>0</td>\n",
       "      <td>0</td>\n",
       "    </tr>\n",
       "    <tr>\n",
       "      <th>1341</th>\n",
       "      <td>791785</td>\n",
       "      <td>Sapacitabine</td>\n",
       "      <td>ZAP70</td>\n",
       "      <td>0</td>\n",
       "      <td>0</td>\n",
       "    </tr>\n",
       "    <tr>\n",
       "      <th>1342</th>\n",
       "      <td>791785</td>\n",
       "      <td>Sapacitabine</td>\n",
       "      <td>adenosine deaminase</td>\n",
       "      <td>0</td>\n",
       "      <td>0</td>\n",
       "    </tr>\n",
       "    <tr>\n",
       "      <th>1343</th>\n",
       "      <td>791785</td>\n",
       "      <td>Sapacitabine</td>\n",
       "      <td>EPHB6</td>\n",
       "      <td>0</td>\n",
       "      <td>0</td>\n",
       "    </tr>\n",
       "    <tr>\n",
       "      <th>1344</th>\n",
       "      <td>791785</td>\n",
       "      <td>Sapacitabine</td>\n",
       "      <td>LCK</td>\n",
       "      <td>0</td>\n",
       "      <td>0</td>\n",
       "    </tr>\n",
       "  </tbody>\n",
       "</table>\n",
       "<p>1345 rows × 5 columns</p>\n",
       "</div>"
      ],
      "text/plain": [
       "         NSC          drug                 gene  num  num in journals\n",
       "0        740  METHOTREXATE                 ATIC   58               44\n",
       "1        740  METHOTREXATE                 TYMS   65                0\n",
       "2        740  METHOTREXATE                 DHFR  300              210\n",
       "3        740  METHOTREXATE               MIR330    0                0\n",
       "4        740  METHOTREXATE              SNORD16    0                0\n",
       "...      ...           ...                  ...  ...              ...\n",
       "1340  791785  Sapacitabine                  PGR    0                0\n",
       "1341  791785  Sapacitabine                ZAP70    0                0\n",
       "1342  791785  Sapacitabine  adenosine deaminase    0                0\n",
       "1343  791785  Sapacitabine                EPHB6    0                0\n",
       "1344  791785  Sapacitabine                  LCK    0                0\n",
       "\n",
       "[1345 rows x 5 columns]"
      ]
     },
     "execution_count": 48,
     "metadata": {},
     "output_type": "execute_result"
    }
   ],
   "source": [
    "results = pd.DataFrame(results)\n",
    "results.columns = [\"NSC\", \"drug\", \"gene\", \"num\", \"num in journals\"]\n",
    "results"
   ]
  },
  {
   "cell_type": "code",
   "execution_count": 49,
   "id": "d4022b43",
   "metadata": {},
   "outputs": [],
   "source": [
    "results.to_csv(\"result_all.csv\", index=False)"
   ]
  },
  {
   "cell_type": "code",
   "execution_count": null,
   "id": "029cb5af",
   "metadata": {},
   "outputs": [],
   "source": []
  }
 ],
 "metadata": {
  "kernelspec": {
   "display_name": "torch",
   "language": "python",
   "name": "torch"
  },
  "language_info": {
   "codemirror_mode": {
    "name": "ipython",
    "version": 3
   },
   "file_extension": ".py",
   "mimetype": "text/x-python",
   "name": "python",
   "nbconvert_exporter": "python",
   "pygments_lexer": "ipython3",
   "version": "3.11.9"
  }
 },
 "nbformat": 4,
 "nbformat_minor": 5
}
