{
 "cells": [
  {
   "cell_type": "code",
   "execution_count": 1,
   "id": "0c277062",
   "metadata": {
    "scrolled": true
   },
   "outputs": [],
   "source": [
    "import matplotlib.pyplot as plt\n",
    "import networkx as nx\n",
    "import numpy as np\n",
    "import pandas as pd\n",
    "import seaborn as sns"
   ]
  },
  {
   "cell_type": "code",
   "execution_count": 2,
   "id": "4166e7d1",
   "metadata": {},
   "outputs": [],
   "source": [
    "# t = np.load(\"idxs.npy\", allow_pickle=True)[1]\n",
    "# df = pd.read_csv(\"attention.csv.gz\", index_col=0, low_memory=False)\n",
    "# df.index = t\n",
    "# df.columns = t\n",
    "# drug = df[:269]\n",
    "# drug_gene = drug.iloc[:, 329:]"
   ]
  },
  {
   "cell_type": "code",
   "execution_count": 3,
   "id": "8b132930",
   "metadata": {
    "scrolled": true
   },
   "outputs": [],
   "source": [
    "# name = dict(pd.read_csv(\"nsc_dti.csv\", index_col=0)[[\"NSC\", \"Drug Name\"]].values)"
   ]
  },
  {
   "cell_type": "code",
   "execution_count": 4,
   "id": "2f19be40",
   "metadata": {
    "scrolled": false
   },
   "outputs": [],
   "source": [
    "# drug_gene.index = [name[i] for i in drug_gene.index]"
   ]
  },
  {
   "cell_type": "code",
   "execution_count": 5,
   "id": "3a39e8ba",
   "metadata": {
    "scrolled": true
   },
   "outputs": [],
   "source": [
    "# graph = pd.DataFrame()\n",
    "# for i in [\"Irinotecan\", \"Topotecan\", \"Camptothecin\", \"Daunorubicin\", \"Doxorubicin\"]:\n",
    "#     tmp = drug_gene.loc[i]\n",
    "#     if tmp.shape[0] > 10:\n",
    "#         tmp = tmp.sort_values(ascending=False)[:5]\n",
    "#     else:\n",
    "#         tmp = tmp.iloc[1].sort_values(ascending=False)[:5]\n",
    "\n",
    "#     tmp = pd.DataFrame(tmp)\n",
    "#     tmp[\"name\"] = list(tmp.columns) * 5\n",
    "#     tmp = tmp.reset_index()\n",
    "#     tmp.columns = [\"genes\", \"Attention\", \"name\"]\n",
    "#     graph = pd.concat([graph, tmp])\n",
    "\n",
    "# graph[\"name\"] = graph[\"name\"].str.replace(\" hydrochloride\", \"\")\n",
    "# graph = graph.reset_index(drop=True)"
   ]
  },
  {
   "cell_type": "code",
   "execution_count": 6,
   "id": "708b1817",
   "metadata": {
    "scrolled": false
   },
   "outputs": [],
   "source": [
    "# graph.to_csv(\"graph.csv\")"
   ]
  },
  {
   "cell_type": "code",
   "execution_count": 7,
   "id": "7ac2bb9a",
   "metadata": {},
   "outputs": [],
   "source": [
    "# dti = pd.read_csv(\"dti_drugbank.csv\", index_col=0)\n",
    "# dti.index = [name[i] for i in dti.index]\n",
    "# dti = dti.loc[\n",
    "#     dti.index.isin(set(graph.name)), dti.columns.isin(set(graph.genes))\n",
    "# ].drop_duplicates()"
   ]
  },
  {
   "cell_type": "code",
   "execution_count": 8,
   "id": "0336ca2e",
   "metadata": {
    "scrolled": true
   },
   "outputs": [],
   "source": [
    "# dtis = pd.DataFrame()\n",
    "# for i in dti.index:\n",
    "#     if i == \"Doxorubicin\":\n",
    "#         tmp = (\n",
    "#             (dti.loc[\"Doxorubicin\"])\n",
    "#             .groupby(dti.loc[\"Doxorubicin\"].index)\n",
    "#             .mean()\n",
    "#             .loc[\"Doxorubicin\"]\n",
    "#             .reset_index()\n",
    "#         )\n",
    "#     else:\n",
    "#         tmp = dti.loc[i].reset_index()\n",
    "#     tmp[\"drug\"] = [i] * len(tmp)\n",
    "#     tmp = tmp[tmp[i] > 0]\n",
    "#     tmp.columns = [\"genes\", \"dtis\", \"name\"]\n",
    "#     dtis = pd.concat([dtis, tmp])"
   ]
  },
  {
   "cell_type": "code",
   "execution_count": 9,
   "id": "5243cd99",
   "metadata": {
    "scrolled": true
   },
   "outputs": [],
   "source": [
    "# dtis = pd.concat(\n",
    "#     [\n",
    "#         dtis,\n",
    "#         pd.DataFrame(\n",
    "#             [[\"TOP1\", 1, \"Topotecan\"], [\"TOP1MT\", 1, \"Topotecan\"]], columns=dtis.columns\n",
    "#         ),\n",
    "#     ]\n",
    "# )\n",
    "# dtis"
   ]
  },
  {
   "cell_type": "code",
   "execution_count": 10,
   "id": "94642f6d",
   "metadata": {
    "scrolled": true
   },
   "outputs": [],
   "source": [
    "# graph = graph.merge(dtis, how=\"left\").fillna(0)\n",
    "# graph"
   ]
  },
  {
   "cell_type": "code",
   "execution_count": 11,
   "id": "0fb3e6f8",
   "metadata": {
    "scrolled": true
   },
   "outputs": [],
   "source": [
    "# weights_list = []\n",
    "# for i in set(graph.name):\n",
    "#     t = graph[graph.name == i]\n",
    "#     max_weight, min_weight = max(t[\"Attention\"]), min(t[\"Attention\"])\n",
    "#     # (weight - min_weight) / (max_weight - min_weight)\n",
    "#     weights_list.extend(list((t[\"Attention\"] - min_weight) / (max_weight - min_weight)))"
   ]
  },
  {
   "cell_type": "code",
   "execution_count": 12,
   "id": "ace371cb",
   "metadata": {
    "scrolled": true
   },
   "outputs": [],
   "source": [
    "# df = graph.copy()\n",
    "# df[\"Attention\"] = weights_list\n",
    "# df"
   ]
  },
  {
   "cell_type": "code",
   "execution_count": 13,
   "id": "705e97ec",
   "metadata": {},
   "outputs": [],
   "source": [
    "# df.to_csv('graph_norm.csv')"
   ]
  },
  {
   "cell_type": "code",
   "execution_count": null,
   "id": "9d4f754b",
   "metadata": {
    "scrolled": true
   },
   "outputs": [],
   "source": [
    "# df = pd.read_csv(\"attention.csv.gz\", index_col=0, low_memory=False)\n",
    "# # tmp = np.load('../../Drug_Response_Prediction_using_GNN/exp/idxs.npy', allow_pickle=True)[1]\n",
    "# # df.index = tmp\n",
    "# # df.columns = tmp\n",
    "# # drug = df[:269]\n",
    "# # drug_gene = drug.iloc[:, 329:]"
   ]
  },
  {
   "cell_type": "code",
   "execution_count": null,
   "id": "d47541af",
   "metadata": {},
   "outputs": [],
   "source": [
    "# human = gp.get_library_name(organism='Human')\n",
    "# human"
   ]
  },
  {
   "cell_type": "code",
   "execution_count": 4,
   "id": "d2ab6eae",
   "metadata": {
    "scrolled": true
   },
   "outputs": [],
   "source": [
    "# def pad_dict(dictionary, pad_value):\n",
    "#     max_length = max(len(v) for v in dictionary.values())\n",
    "#     for key in dictionary:\n",
    "#         dictionary[key] += [pad_value] * (max_length - len(dictionary[key]))\n",
    "#     return dictionary"
   ]
  },
  {
   "cell_type": "code",
   "execution_count": 5,
   "id": "ca4f3227",
   "metadata": {},
   "outputs": [],
   "source": [
    "# res = {}\n",
    "# for i in drug_gene.index:\n",
    "#     tmp = drug_gene.loc[i]\n",
    "#     tmp = tmp[tmp != 0]\n",
    "#     if len(tmp) > 0:\n",
    "#         res[i] = list(tmp.sort_values(ascending=False).index)\n",
    "\n",
    "# padded_dict = pad_dict(res, None)\n",
    "# res = pd.DataFrame(padded_dict).T"
   ]
  },
  {
   "cell_type": "code",
   "execution_count": 6,
   "id": "62154531",
   "metadata": {
    "scrolled": true
   },
   "outputs": [],
   "source": [
    "# results = pd.DataFrame()\n",
    "# for i in tqdm(res.index):\n",
    "#     while True:\n",
    "#         try:\n",
    "#             enr = gp.enrichr(gene_list=list(res.loc[i].dropna()[:100]),\n",
    "#                              gene_sets='MSigDB_Hallmark_2020',\n",
    "#                              organism='human',\n",
    "#                              outdir=None)\n",
    "#             tmp = enr.results\n",
    "#             tmp = tmp[tmp['Adjusted P-value'] < 0.05].sort_values(['Adjusted P-value'])[['Term', 'Adjusted P-value', 'Genes']]\n",
    "#             tmp['drug'] = len(tmp)*[i]\n",
    "#             results = pd.concat([results, tmp])\n",
    "#             break\n",
    "#         except Exception as e:\n",
    "#             print(f\"Error: {e}\")\n",
    "#             print(\"Retrying...\")"
   ]
  },
  {
   "cell_type": "code",
   "execution_count": 7,
   "id": "553626d0",
   "metadata": {},
   "outputs": [],
   "source": [
    "# results.drug = results.drug.astype(int)\n",
    "# results.to_csv('gsea_results.csv')"
   ]
  },
  {
   "cell_type": "code",
   "execution_count": 8,
   "id": "ba173522",
   "metadata": {
    "scrolled": true
   },
   "outputs": [],
   "source": [
    "# name = dict(pd.read_csv(\"nsc_dti.csv\", index_col=0)[[\"NSC\", \"Drug Name\"]].values)"
   ]
  },
  {
   "cell_type": "code",
   "execution_count": 9,
   "id": "a5899bce",
   "metadata": {
    "scrolled": true
   },
   "outputs": [
    {
     "data": {
      "text/html": [
       "<div>\n",
       "<style scoped>\n",
       "    .dataframe tbody tr th:only-of-type {\n",
       "        vertical-align: middle;\n",
       "    }\n",
       "\n",
       "    .dataframe tbody tr th {\n",
       "        vertical-align: top;\n",
       "    }\n",
       "\n",
       "    .dataframe thead th {\n",
       "        text-align: right;\n",
       "    }\n",
       "</style>\n",
       "<table border=\"1\" class=\"dataframe\">\n",
       "  <thead>\n",
       "    <tr style=\"text-align: right;\">\n",
       "      <th></th>\n",
       "      <th>Term</th>\n",
       "      <th>Adjusted P-value</th>\n",
       "      <th>Genes</th>\n",
       "      <th>drug</th>\n",
       "    </tr>\n",
       "  </thead>\n",
       "  <tbody>\n",
       "    <tr>\n",
       "      <th>0</th>\n",
       "      <td>Epithelial Mesenchymal Transition</td>\n",
       "      <td>0.001643</td>\n",
       "      <td>SFRP4;POSTN;COL3A1;COL1A2;MMP1;MGP;MMP3</td>\n",
       "      <td>740</td>\n",
       "    </tr>\n",
       "    <tr>\n",
       "      <th>1</th>\n",
       "      <td>Angiogenesis</td>\n",
       "      <td>0.009602</td>\n",
       "      <td>POSTN;COL3A1;PRG2</td>\n",
       "      <td>740</td>\n",
       "    </tr>\n",
       "    <tr>\n",
       "      <th>2</th>\n",
       "      <td>Allograft Rejection</td>\n",
       "      <td>0.027699</td>\n",
       "      <td>CD7;IL2RG;CD3E;CD3D;ELANE</td>\n",
       "      <td>740</td>\n",
       "    </tr>\n",
       "    <tr>\n",
       "      <th>0</th>\n",
       "      <td>Complement</td>\n",
       "      <td>0.000028</td>\n",
       "      <td>CA2;CTSL;LCK;FDX1;PRKCD;PIM1;FYN;CTSS;PIK3CG</td>\n",
       "      <td>752</td>\n",
       "    </tr>\n",
       "    <tr>\n",
       "      <th>1</th>\n",
       "      <td>UV Response Up</td>\n",
       "      <td>0.002786</td>\n",
       "      <td>KCNH2;RET;CA2;NTRK3;PRKCD;HSPA2</td>\n",
       "      <td>752</td>\n",
       "    </tr>\n",
       "    <tr>\n",
       "      <th>...</th>\n",
       "      <td>...</td>\n",
       "      <td>...</td>\n",
       "      <td>...</td>\n",
       "      <td>...</td>\n",
       "    </tr>\n",
       "    <tr>\n",
       "      <th>4</th>\n",
       "      <td>UV Response Up</td>\n",
       "      <td>0.009275</td>\n",
       "      <td>KCNH2;RET;CA2;NTRK3;HSPA2</td>\n",
       "      <td>791785</td>\n",
       "    </tr>\n",
       "    <tr>\n",
       "      <th>5</th>\n",
       "      <td>PI3K/AKT/mTOR  Signaling</td>\n",
       "      <td>0.012424</td>\n",
       "      <td>LCK;CDK1;RAF1;EGFR</td>\n",
       "      <td>791785</td>\n",
       "    </tr>\n",
       "    <tr>\n",
       "      <th>6</th>\n",
       "      <td>Apical Junction</td>\n",
       "      <td>0.014403</td>\n",
       "      <td>KCNH2;SYK;CDH11;MAPK14;EGFR</td>\n",
       "      <td>791785</td>\n",
       "    </tr>\n",
       "    <tr>\n",
       "      <th>7</th>\n",
       "      <td>E2F Targets</td>\n",
       "      <td>0.014403</td>\n",
       "      <td>POLE4;WEE1;MELK;CDK1;DCK</td>\n",
       "      <td>791785</td>\n",
       "    </tr>\n",
       "    <tr>\n",
       "      <th>8</th>\n",
       "      <td>KRAS Signaling Up</td>\n",
       "      <td>0.014403</td>\n",
       "      <td>MAP4K1;CA2;PTGS2;EPHB2;CTSS</td>\n",
       "      <td>791785</td>\n",
       "    </tr>\n",
       "  </tbody>\n",
       "</table>\n",
       "<p>2685 rows × 4 columns</p>\n",
       "</div>"
      ],
      "text/plain": [
       "                                 Term  Adjusted P-value  \\\n",
       "0   Epithelial Mesenchymal Transition          0.001643   \n",
       "1                        Angiogenesis          0.009602   \n",
       "2                 Allograft Rejection          0.027699   \n",
       "0                          Complement          0.000028   \n",
       "1                      UV Response Up          0.002786   \n",
       "..                                ...               ...   \n",
       "4                      UV Response Up          0.009275   \n",
       "5            PI3K/AKT/mTOR  Signaling          0.012424   \n",
       "6                     Apical Junction          0.014403   \n",
       "7                         E2F Targets          0.014403   \n",
       "8                   KRAS Signaling Up          0.014403   \n",
       "\n",
       "                                           Genes    drug  \n",
       "0        SFRP4;POSTN;COL3A1;COL1A2;MMP1;MGP;MMP3     740  \n",
       "1                              POSTN;COL3A1;PRG2     740  \n",
       "2                      CD7;IL2RG;CD3E;CD3D;ELANE     740  \n",
       "0   CA2;CTSL;LCK;FDX1;PRKCD;PIM1;FYN;CTSS;PIK3CG     752  \n",
       "1                KCNH2;RET;CA2;NTRK3;PRKCD;HSPA2     752  \n",
       "..                                           ...     ...  \n",
       "4                      KCNH2;RET;CA2;NTRK3;HSPA2  791785  \n",
       "5                             LCK;CDK1;RAF1;EGFR  791785  \n",
       "6                    KCNH2;SYK;CDH11;MAPK14;EGFR  791785  \n",
       "7                       POLE4;WEE1;MELK;CDK1;DCK  791785  \n",
       "8                    MAP4K1;CA2;PTGS2;EPHB2;CTSS  791785  \n",
       "\n",
       "[2685 rows x 4 columns]"
      ]
     },
     "execution_count": 9,
     "metadata": {},
     "output_type": "execute_result"
    }
   ],
   "source": [
    "# results = pd.read_csv(\"gsea_results.csv\", index_col=0)\n",
    "# results"
   ]
  },
  {
   "cell_type": "code",
   "execution_count": 41,
   "id": "7549029e",
   "metadata": {},
   "outputs": [],
   "source": [
    "# results[\"drug\"] = [name[int(i)] for i in results[\"drug\"]]\n",
    "# results"
   ]
  },
  {
   "cell_type": "code",
   "execution_count": 11,
   "id": "6045132e",
   "metadata": {
    "scrolled": true
   },
   "outputs": [],
   "source": [
    "# df = results.groupby('Term')['drug'].count().reset_index().merge(results.groupby('Term')['Adjusted P-value'].mean().reset_index())\n",
    "# df = df.sort_values('drug', ascending=False)\n",
    "# df = df[df['drug'] > 10]\n",
    "# df"
   ]
  },
  {
   "cell_type": "code",
   "execution_count": 12,
   "id": "f9c52504",
   "metadata": {
    "scrolled": true
   },
   "outputs": [],
   "source": [
    "# df.to_csv('gea.csv')"
   ]
  },
  {
   "cell_type": "code",
   "execution_count": null,
   "id": "1dd4874b",
   "metadata": {},
   "outputs": [],
   "source": []
  }
 ],
 "metadata": {
  "kernelspec": {
   "display_name": "torch",
   "language": "python",
   "name": "torch"
  },
  "language_info": {
   "codemirror_mode": {
    "name": "ipython",
    "version": 3
   },
   "file_extension": ".py",
   "mimetype": "text/x-python",
   "name": "python",
   "nbconvert_exporter": "python",
   "pygments_lexer": "ipython3",
   "version": "3.10.0"
  }
 },
 "nbformat": 4,
 "nbformat_minor": 5
}
